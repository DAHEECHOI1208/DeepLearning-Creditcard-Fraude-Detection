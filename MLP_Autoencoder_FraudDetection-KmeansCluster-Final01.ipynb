{
 "cells": [
  {
   "cell_type": "markdown",
   "metadata": {},
   "source": [
    " #Credit Card Fraud Detection using DeepLearning "
   ]
  },
  {
   "cell_type": "code",
   "execution_count": 52,
   "metadata": {
    "collapsed": true
   },
   "outputs": [],
   "source": [
    "import numpy as np\n",
    "import pandas as pd \n",
    "import matplotlib.pyplot as plt\n",
    "import seaborn as sns\n",
    "\n",
    "from sklearn.preprocessing import MinMaxScaler\n",
    "from sklearn.metrics import accuracy_score,precision_score,recall_score,f1_score,fbeta_score,classification_report,confusion_matrix,precision_recall_curve,roc_auc_score\\\n",
    "    ,roc_curve\n",
    "from subprocess import check_output\n",
    "%matplotlib inline"
   ]
  },
  {
   "cell_type": "code",
   "execution_count": 53,
   "metadata": {
    "collapsed": true
   },
   "outputs": [],
   "source": [
    "from __future__ import division, print_function, absolute_import\n",
    "import tflearn\n",
    "from tflearn.layers.core import input_data, dropout, fully_connected\n",
    "from tflearn.layers.conv import conv_2d, max_pool_2d\n",
    "from tflearn.layers.normalization import batch_normalization, local_response_normalization\n",
    "from tflearn.layers.estimator import regression\n",
    "\n",
    "import tensorflow as tf\n",
    "\n",
    "import numpy as np\n",
    "import pandas as pd\n",
    "\n",
    "from sklearn import preprocessing\n",
    "\n",
    "from sklearn.decomposition import PCA\n",
    "\n",
    "from scipy.stats import skew\n",
    "from scipy.stats.stats import pearsonr\n",
    "from sklearn.cluster import KMeans"
   ]
  },
  {
   "cell_type": "code",
   "execution_count": 54,
   "metadata": {
    "collapsed": true
   },
   "outputs": [],
   "source": [
    "data=pd.read_csv(\"/home/dinesh/Downloads/creditcard.csv\")"
   ]
  },
  {
   "cell_type": "code",
   "execution_count": 55,
   "metadata": {
    "collapsed": true
   },
   "outputs": [],
   "source": [
    "data_fraud=data[data[\"Class\"]==1]\n",
    "data_non_fraud=data[data[\"Class\"]==0]"
   ]
  },
  {
   "cell_type": "code",
   "execution_count": 56,
   "metadata": {
    "collapsed": false
   },
   "outputs": [
    {
     "data": {
      "text/plain": [
       "((492, 31), (284315, 31))"
      ]
     },
     "execution_count": 56,
     "metadata": {},
     "output_type": "execute_result"
    }
   ],
   "source": [
    "data_fraud.shape, data_non_fraud.shape"
   ]
  },
  {
   "cell_type": "code",
   "execution_count": 59,
   "metadata": {
    "collapsed": true
   },
   "outputs": [],
   "source": [
    "from sklearn.model_selection import train_test_split\n",
    "data_fraud_train, data_fraud_test=train_test_split(data_fraud,test_size=0.2, shuffle=False)\n",
    "data_non_fraud_train, data_non_fraud_test=train_test_split(data_non_fraud,test_size=0.2, shuffle=False)"
   ]
  },
  {
   "cell_type": "code",
   "execution_count": 60,
   "metadata": {
    "collapsed": false
   },
   "outputs": [
    {
     "data": {
      "text/plain": [
       "((393, 31), (99, 31), (227452, 31), (56863, 31))"
      ]
     },
     "execution_count": 60,
     "metadata": {},
     "output_type": "execute_result"
    }
   ],
   "source": [
    "data_fraud_train.shape, data_fraud_test.shape, data_non_fraud_train.shape, data_non_fraud_test.shape"
   ]
  },
  {
   "cell_type": "code",
   "execution_count": 61,
   "metadata": {
    "collapsed": true
   },
   "outputs": [],
   "source": [
    "data_train=pd.concat([data_fraud_train,data_non_fraud_train])\n",
    "data_test=pd.concat([data_fraud_test,data_non_fraud_test])"
   ]
  },
  {
   "cell_type": "code",
   "execution_count": 62,
   "metadata": {
    "collapsed": false
   },
   "outputs": [
    {
     "data": {
      "text/plain": [
       "(227845, 31)"
      ]
     },
     "execution_count": 62,
     "metadata": {},
     "output_type": "execute_result"
    }
   ],
   "source": [
    "data_train.shape"
   ]
  },
  {
   "cell_type": "code",
   "execution_count": 63,
   "metadata": {
    "collapsed": true
   },
   "outputs": [],
   "source": [
    "df_full=data_train"
   ]
  },
  {
   "cell_type": "code",
   "execution_count": null,
   "metadata": {
    "collapsed": true
   },
   "outputs": [],
   "source": []
  },
  {
   "cell_type": "code",
   "execution_count": 64,
   "metadata": {
    "collapsed": true
   },
   "outputs": [],
   "source": [
    "from IPython.core.interactiveshell import InteractiveShell\n",
    "InteractiveShell.ast_node_interactivity='all'"
   ]
  },
  {
   "cell_type": "code",
   "execution_count": 65,
   "metadata": {
    "collapsed": false,
    "scrolled": true
   },
   "outputs": [
    {
     "data": {
      "text/html": [
       "<div>\n",
       "<style>\n",
       "    .dataframe thead tr:only-child th {\n",
       "        text-align: right;\n",
       "    }\n",
       "\n",
       "    .dataframe thead th {\n",
       "        text-align: left;\n",
       "    }\n",
       "\n",
       "    .dataframe tbody tr th {\n",
       "        vertical-align: top;\n",
       "    }\n",
       "</style>\n",
       "<table border=\"1\" class=\"dataframe\">\n",
       "  <thead>\n",
       "    <tr style=\"text-align: right;\">\n",
       "      <th></th>\n",
       "      <th>Time</th>\n",
       "      <th>V1</th>\n",
       "      <th>V2</th>\n",
       "      <th>V3</th>\n",
       "      <th>V4</th>\n",
       "      <th>V5</th>\n",
       "      <th>V6</th>\n",
       "      <th>V7</th>\n",
       "      <th>V8</th>\n",
       "      <th>V9</th>\n",
       "      <th>...</th>\n",
       "      <th>V21</th>\n",
       "      <th>V22</th>\n",
       "      <th>V23</th>\n",
       "      <th>V24</th>\n",
       "      <th>V25</th>\n",
       "      <th>V26</th>\n",
       "      <th>V27</th>\n",
       "      <th>V28</th>\n",
       "      <th>Amount</th>\n",
       "      <th>Class</th>\n",
       "    </tr>\n",
       "  </thead>\n",
       "  <tbody>\n",
       "    <tr>\n",
       "      <th>541</th>\n",
       "      <td>406.0</td>\n",
       "      <td>-2.312227</td>\n",
       "      <td>1.951992</td>\n",
       "      <td>-1.609851</td>\n",
       "      <td>3.997906</td>\n",
       "      <td>-0.522188</td>\n",
       "      <td>-1.426545</td>\n",
       "      <td>-2.537387</td>\n",
       "      <td>1.391657</td>\n",
       "      <td>-2.770089</td>\n",
       "      <td>...</td>\n",
       "      <td>0.517232</td>\n",
       "      <td>-0.035049</td>\n",
       "      <td>-0.465211</td>\n",
       "      <td>0.320198</td>\n",
       "      <td>0.044519</td>\n",
       "      <td>0.177840</td>\n",
       "      <td>0.261145</td>\n",
       "      <td>-0.143276</td>\n",
       "      <td>0.00</td>\n",
       "      <td>1</td>\n",
       "    </tr>\n",
       "    <tr>\n",
       "      <th>623</th>\n",
       "      <td>472.0</td>\n",
       "      <td>-3.043541</td>\n",
       "      <td>-3.157307</td>\n",
       "      <td>1.088463</td>\n",
       "      <td>2.288644</td>\n",
       "      <td>1.359805</td>\n",
       "      <td>-1.064823</td>\n",
       "      <td>0.325574</td>\n",
       "      <td>-0.067794</td>\n",
       "      <td>-0.270953</td>\n",
       "      <td>...</td>\n",
       "      <td>0.661696</td>\n",
       "      <td>0.435477</td>\n",
       "      <td>1.375966</td>\n",
       "      <td>-0.293803</td>\n",
       "      <td>0.279798</td>\n",
       "      <td>-0.145362</td>\n",
       "      <td>-0.252773</td>\n",
       "      <td>0.035764</td>\n",
       "      <td>529.00</td>\n",
       "      <td>1</td>\n",
       "    </tr>\n",
       "    <tr>\n",
       "      <th>4920</th>\n",
       "      <td>4462.0</td>\n",
       "      <td>-2.303350</td>\n",
       "      <td>1.759247</td>\n",
       "      <td>-0.359745</td>\n",
       "      <td>2.330243</td>\n",
       "      <td>-0.821628</td>\n",
       "      <td>-0.075788</td>\n",
       "      <td>0.562320</td>\n",
       "      <td>-0.399147</td>\n",
       "      <td>-0.238253</td>\n",
       "      <td>...</td>\n",
       "      <td>-0.294166</td>\n",
       "      <td>-0.932391</td>\n",
       "      <td>0.172726</td>\n",
       "      <td>-0.087330</td>\n",
       "      <td>-0.156114</td>\n",
       "      <td>-0.542628</td>\n",
       "      <td>0.039566</td>\n",
       "      <td>-0.153029</td>\n",
       "      <td>239.93</td>\n",
       "      <td>1</td>\n",
       "    </tr>\n",
       "    <tr>\n",
       "      <th>6108</th>\n",
       "      <td>6986.0</td>\n",
       "      <td>-4.397974</td>\n",
       "      <td>1.358367</td>\n",
       "      <td>-2.592844</td>\n",
       "      <td>2.679787</td>\n",
       "      <td>-1.128131</td>\n",
       "      <td>-1.706536</td>\n",
       "      <td>-3.496197</td>\n",
       "      <td>-0.248778</td>\n",
       "      <td>-0.247768</td>\n",
       "      <td>...</td>\n",
       "      <td>0.573574</td>\n",
       "      <td>0.176968</td>\n",
       "      <td>-0.436207</td>\n",
       "      <td>-0.053502</td>\n",
       "      <td>0.252405</td>\n",
       "      <td>-0.657488</td>\n",
       "      <td>-0.827136</td>\n",
       "      <td>0.849573</td>\n",
       "      <td>59.00</td>\n",
       "      <td>1</td>\n",
       "    </tr>\n",
       "    <tr>\n",
       "      <th>6329</th>\n",
       "      <td>7519.0</td>\n",
       "      <td>1.234235</td>\n",
       "      <td>3.019740</td>\n",
       "      <td>-4.304597</td>\n",
       "      <td>4.732795</td>\n",
       "      <td>3.624201</td>\n",
       "      <td>-1.357746</td>\n",
       "      <td>1.713445</td>\n",
       "      <td>-0.496358</td>\n",
       "      <td>-1.282858</td>\n",
       "      <td>...</td>\n",
       "      <td>-0.379068</td>\n",
       "      <td>-0.704181</td>\n",
       "      <td>-0.656805</td>\n",
       "      <td>-1.632653</td>\n",
       "      <td>1.488901</td>\n",
       "      <td>0.566797</td>\n",
       "      <td>-0.010016</td>\n",
       "      <td>0.146793</td>\n",
       "      <td>1.00</td>\n",
       "      <td>1</td>\n",
       "    </tr>\n",
       "  </tbody>\n",
       "</table>\n",
       "<p>5 rows × 31 columns</p>\n",
       "</div>"
      ],
      "text/plain": [
       "        Time        V1        V2        V3        V4        V5        V6  \\\n",
       "541    406.0 -2.312227  1.951992 -1.609851  3.997906 -0.522188 -1.426545   \n",
       "623    472.0 -3.043541 -3.157307  1.088463  2.288644  1.359805 -1.064823   \n",
       "4920  4462.0 -2.303350  1.759247 -0.359745  2.330243 -0.821628 -0.075788   \n",
       "6108  6986.0 -4.397974  1.358367 -2.592844  2.679787 -1.128131 -1.706536   \n",
       "6329  7519.0  1.234235  3.019740 -4.304597  4.732795  3.624201 -1.357746   \n",
       "\n",
       "            V7        V8        V9  ...         V21       V22       V23  \\\n",
       "541  -2.537387  1.391657 -2.770089  ...    0.517232 -0.035049 -0.465211   \n",
       "623   0.325574 -0.067794 -0.270953  ...    0.661696  0.435477  1.375966   \n",
       "4920  0.562320 -0.399147 -0.238253  ...   -0.294166 -0.932391  0.172726   \n",
       "6108 -3.496197 -0.248778 -0.247768  ...    0.573574  0.176968 -0.436207   \n",
       "6329  1.713445 -0.496358 -1.282858  ...   -0.379068 -0.704181 -0.656805   \n",
       "\n",
       "           V24       V25       V26       V27       V28  Amount  Class  \n",
       "541   0.320198  0.044519  0.177840  0.261145 -0.143276    0.00      1  \n",
       "623  -0.293803  0.279798 -0.145362 -0.252773  0.035764  529.00      1  \n",
       "4920 -0.087330 -0.156114 -0.542628  0.039566 -0.153029  239.93      1  \n",
       "6108 -0.053502  0.252405 -0.657488 -0.827136  0.849573   59.00      1  \n",
       "6329 -1.632653  1.488901  0.566797 -0.010016  0.146793    1.00      1  \n",
       "\n",
       "[5 rows x 31 columns]"
      ]
     },
     "execution_count": 65,
     "metadata": {},
     "output_type": "execute_result"
    }
   ],
   "source": [
    "#df_full = pd.read_csv(\"/home/dinesh/Downloads/creditcard.csv\")\n",
    "df_full.head()"
   ]
  },
  {
   "cell_type": "code",
   "execution_count": 66,
   "metadata": {
    "collapsed": false
   },
   "outputs": [
    {
     "data": {
      "text/plain": [
       "0    227452\n",
       "1       393\n",
       "Name: Class, dtype: int64"
      ]
     },
     "execution_count": 66,
     "metadata": {},
     "output_type": "execute_result"
    }
   ],
   "source": [
    "df_full.Class.value_counts() "
   ]
  },
  {
   "cell_type": "code",
   "execution_count": 67,
   "metadata": {
    "collapsed": true
   },
   "outputs": [],
   "source": [
    "df_full.sort_values(by='Class', ascending=False, inplace=True) \n",
    "df_full.drop('Time', axis=1,  inplace = True)"
   ]
  },
  {
   "cell_type": "code",
   "execution_count": 68,
   "metadata": {
    "collapsed": false
   },
   "outputs": [
    {
     "data": {
      "text/html": [
       "<div>\n",
       "<style>\n",
       "    .dataframe thead tr:only-child th {\n",
       "        text-align: right;\n",
       "    }\n",
       "\n",
       "    .dataframe thead th {\n",
       "        text-align: left;\n",
       "    }\n",
       "\n",
       "    .dataframe tbody tr th {\n",
       "        vertical-align: top;\n",
       "    }\n",
       "</style>\n",
       "<table border=\"1\" class=\"dataframe\">\n",
       "  <thead>\n",
       "    <tr style=\"text-align: right;\">\n",
       "      <th></th>\n",
       "      <th>V1</th>\n",
       "      <th>V2</th>\n",
       "      <th>V3</th>\n",
       "      <th>V4</th>\n",
       "      <th>V5</th>\n",
       "      <th>V6</th>\n",
       "      <th>V7</th>\n",
       "      <th>V8</th>\n",
       "      <th>V9</th>\n",
       "      <th>V10</th>\n",
       "      <th>...</th>\n",
       "      <th>V21</th>\n",
       "      <th>V22</th>\n",
       "      <th>V23</th>\n",
       "      <th>V24</th>\n",
       "      <th>V25</th>\n",
       "      <th>V26</th>\n",
       "      <th>V27</th>\n",
       "      <th>V28</th>\n",
       "      <th>Amount</th>\n",
       "      <th>Class</th>\n",
       "    </tr>\n",
       "  </thead>\n",
       "  <tbody>\n",
       "    <tr>\n",
       "      <th>541</th>\n",
       "      <td>-2.312227</td>\n",
       "      <td>1.951992</td>\n",
       "      <td>-1.609851</td>\n",
       "      <td>3.997906</td>\n",
       "      <td>-0.522188</td>\n",
       "      <td>-1.426545</td>\n",
       "      <td>-2.537387</td>\n",
       "      <td>1.391657</td>\n",
       "      <td>-2.770089</td>\n",
       "      <td>-2.772272</td>\n",
       "      <td>...</td>\n",
       "      <td>0.517232</td>\n",
       "      <td>-0.035049</td>\n",
       "      <td>-0.465211</td>\n",
       "      <td>0.320198</td>\n",
       "      <td>0.044519</td>\n",
       "      <td>0.177840</td>\n",
       "      <td>0.261145</td>\n",
       "      <td>-0.143276</td>\n",
       "      <td>0.00</td>\n",
       "      <td>1</td>\n",
       "    </tr>\n",
       "    <tr>\n",
       "      <th>142557</th>\n",
       "      <td>-1.430864</td>\n",
       "      <td>-0.802529</td>\n",
       "      <td>1.123320</td>\n",
       "      <td>0.389760</td>\n",
       "      <td>-0.281214</td>\n",
       "      <td>-0.055123</td>\n",
       "      <td>1.326232</td>\n",
       "      <td>0.195700</td>\n",
       "      <td>-0.546890</td>\n",
       "      <td>-0.713474</td>\n",
       "      <td>...</td>\n",
       "      <td>0.325575</td>\n",
       "      <td>0.014002</td>\n",
       "      <td>0.844946</td>\n",
       "      <td>0.114963</td>\n",
       "      <td>0.156365</td>\n",
       "      <td>-0.619437</td>\n",
       "      <td>-0.120351</td>\n",
       "      <td>0.035594</td>\n",
       "      <td>354.33</td>\n",
       "      <td>1</td>\n",
       "    </tr>\n",
       "    <tr>\n",
       "      <th>141260</th>\n",
       "      <td>-1.927453</td>\n",
       "      <td>1.827621</td>\n",
       "      <td>-7.019495</td>\n",
       "      <td>5.348303</td>\n",
       "      <td>-2.739188</td>\n",
       "      <td>-2.107219</td>\n",
       "      <td>-5.015848</td>\n",
       "      <td>1.205868</td>\n",
       "      <td>-4.382713</td>\n",
       "      <td>-8.337707</td>\n",
       "      <td>...</td>\n",
       "      <td>1.376938</td>\n",
       "      <td>-0.792017</td>\n",
       "      <td>-0.771414</td>\n",
       "      <td>-0.379574</td>\n",
       "      <td>0.718717</td>\n",
       "      <td>1.111151</td>\n",
       "      <td>1.277707</td>\n",
       "      <td>0.819081</td>\n",
       "      <td>512.25</td>\n",
       "      <td>1</td>\n",
       "    </tr>\n",
       "    <tr>\n",
       "      <th>141259</th>\n",
       "      <td>-1.927453</td>\n",
       "      <td>1.827621</td>\n",
       "      <td>-7.019495</td>\n",
       "      <td>5.348303</td>\n",
       "      <td>-2.739188</td>\n",
       "      <td>-2.107219</td>\n",
       "      <td>-5.015848</td>\n",
       "      <td>1.205868</td>\n",
       "      <td>-4.382713</td>\n",
       "      <td>-8.337707</td>\n",
       "      <td>...</td>\n",
       "      <td>1.376938</td>\n",
       "      <td>-0.792017</td>\n",
       "      <td>-0.771414</td>\n",
       "      <td>-0.379574</td>\n",
       "      <td>0.718717</td>\n",
       "      <td>1.111151</td>\n",
       "      <td>1.277707</td>\n",
       "      <td>0.819081</td>\n",
       "      <td>512.25</td>\n",
       "      <td>1</td>\n",
       "    </tr>\n",
       "    <tr>\n",
       "      <th>141258</th>\n",
       "      <td>-0.937843</td>\n",
       "      <td>3.462889</td>\n",
       "      <td>-6.445104</td>\n",
       "      <td>4.932199</td>\n",
       "      <td>-2.233983</td>\n",
       "      <td>-2.291561</td>\n",
       "      <td>-5.695594</td>\n",
       "      <td>1.338825</td>\n",
       "      <td>-4.322377</td>\n",
       "      <td>-8.099119</td>\n",
       "      <td>...</td>\n",
       "      <td>1.066550</td>\n",
       "      <td>-0.521657</td>\n",
       "      <td>-0.319917</td>\n",
       "      <td>-0.405859</td>\n",
       "      <td>0.906802</td>\n",
       "      <td>1.165784</td>\n",
       "      <td>1.374495</td>\n",
       "      <td>0.729889</td>\n",
       "      <td>0.00</td>\n",
       "      <td>1</td>\n",
       "    </tr>\n",
       "  </tbody>\n",
       "</table>\n",
       "<p>5 rows × 30 columns</p>\n",
       "</div>"
      ],
      "text/plain": [
       "              V1        V2        V3        V4        V5        V6        V7  \\\n",
       "541    -2.312227  1.951992 -1.609851  3.997906 -0.522188 -1.426545 -2.537387   \n",
       "142557 -1.430864 -0.802529  1.123320  0.389760 -0.281214 -0.055123  1.326232   \n",
       "141260 -1.927453  1.827621 -7.019495  5.348303 -2.739188 -2.107219 -5.015848   \n",
       "141259 -1.927453  1.827621 -7.019495  5.348303 -2.739188 -2.107219 -5.015848   \n",
       "141258 -0.937843  3.462889 -6.445104  4.932199 -2.233983 -2.291561 -5.695594   \n",
       "\n",
       "              V8        V9       V10  ...         V21       V22       V23  \\\n",
       "541     1.391657 -2.770089 -2.772272  ...    0.517232 -0.035049 -0.465211   \n",
       "142557  0.195700 -0.546890 -0.713474  ...    0.325575  0.014002  0.844946   \n",
       "141260  1.205868 -4.382713 -8.337707  ...    1.376938 -0.792017 -0.771414   \n",
       "141259  1.205868 -4.382713 -8.337707  ...    1.376938 -0.792017 -0.771414   \n",
       "141258  1.338825 -4.322377 -8.099119  ...    1.066550 -0.521657 -0.319917   \n",
       "\n",
       "             V24       V25       V26       V27       V28  Amount  Class  \n",
       "541     0.320198  0.044519  0.177840  0.261145 -0.143276    0.00      1  \n",
       "142557  0.114963  0.156365 -0.619437 -0.120351  0.035594  354.33      1  \n",
       "141260 -0.379574  0.718717  1.111151  1.277707  0.819081  512.25      1  \n",
       "141259 -0.379574  0.718717  1.111151  1.277707  0.819081  512.25      1  \n",
       "141258 -0.405859  0.906802  1.165784  1.374495  0.729889    0.00      1  \n",
       "\n",
       "[5 rows x 30 columns]"
      ]
     },
     "execution_count": 68,
     "metadata": {},
     "output_type": "execute_result"
    }
   ],
   "source": [
    "df_full.head()"
   ]
  },
  {
   "cell_type": "code",
   "execution_count": 69,
   "metadata": {
    "collapsed": true
   },
   "outputs": [],
   "source": [
    "df_cluster = df_full.iloc[393:,:]"
   ]
  },
  {
   "cell_type": "code",
   "execution_count": 70,
   "metadata": {
    "collapsed": false
   },
   "outputs": [
    {
     "data": {
      "text/plain": [
       "(227452, 30)"
      ]
     },
     "execution_count": 70,
     "metadata": {},
     "output_type": "execute_result"
    }
   ],
   "source": [
    "df_cluster.shape"
   ]
  },
  {
   "cell_type": "code",
   "execution_count": 71,
   "metadata": {
    "collapsed": true
   },
   "outputs": [],
   "source": [
    "# fix random seed for reproducibility\n",
    "seed = 7\n",
    "np.random.seed(seed)"
   ]
  },
  {
   "cell_type": "code",
   "execution_count": 35,
   "metadata": {
    "collapsed": false
   },
   "outputs": [
    {
     "ename": "KeyboardInterrupt",
     "evalue": "",
     "output_type": "error",
     "traceback": [
      "\u001b[0;31m---------------------------------------------------------------------------\u001b[0m",
      "\u001b[0;31mKeyboardInterrupt\u001b[0m                         Traceback (most recent call last)",
      "\u001b[0;32m<ipython-input-35-b9e4a5e29364>\u001b[0m in \u001b[0;36m<module>\u001b[0;34m()\u001b[0m\n\u001b[1;32m      3\u001b[0m \u001b[0;34m\u001b[0m\u001b[0m\n\u001b[1;32m      4\u001b[0m \u001b[0mK\u001b[0m \u001b[0;34m=\u001b[0m \u001b[0mrange\u001b[0m\u001b[0;34m(\u001b[0m\u001b[0;36m1\u001b[0m\u001b[0;34m,\u001b[0m\u001b[0;36m20\u001b[0m\u001b[0;34m)\u001b[0m\u001b[0;34m\u001b[0m\u001b[0m\n\u001b[0;32m----> 5\u001b[0;31m \u001b[0mKM\u001b[0m \u001b[0;34m=\u001b[0m \u001b[0;34m[\u001b[0m\u001b[0mKMeans\u001b[0m\u001b[0;34m(\u001b[0m\u001b[0mn_clusters\u001b[0m\u001b[0;34m=\u001b[0m\u001b[0mk\u001b[0m\u001b[0;34m)\u001b[0m\u001b[0;34m.\u001b[0m\u001b[0mfit\u001b[0m\u001b[0;34m(\u001b[0m\u001b[0mdf_cluster\u001b[0m\u001b[0;34m)\u001b[0m \u001b[0;32mfor\u001b[0m \u001b[0mk\u001b[0m \u001b[0;32min\u001b[0m \u001b[0mK\u001b[0m\u001b[0;34m]\u001b[0m\u001b[0;34m\u001b[0m\u001b[0m\n\u001b[0m\u001b[1;32m      6\u001b[0m \u001b[0mcentroids\u001b[0m \u001b[0;34m=\u001b[0m \u001b[0;34m[\u001b[0m\u001b[0mk\u001b[0m\u001b[0;34m.\u001b[0m\u001b[0mcluster_centers_\u001b[0m \u001b[0;32mfor\u001b[0m \u001b[0mk\u001b[0m \u001b[0;32min\u001b[0m \u001b[0mKM\u001b[0m\u001b[0;34m]\u001b[0m\u001b[0;34m\u001b[0m\u001b[0m\n",
      "\u001b[0;32m<ipython-input-35-b9e4a5e29364>\u001b[0m in \u001b[0;36m<listcomp>\u001b[0;34m(.0)\u001b[0m\n\u001b[1;32m      3\u001b[0m \u001b[0;34m\u001b[0m\u001b[0m\n\u001b[1;32m      4\u001b[0m \u001b[0mK\u001b[0m \u001b[0;34m=\u001b[0m \u001b[0mrange\u001b[0m\u001b[0;34m(\u001b[0m\u001b[0;36m1\u001b[0m\u001b[0;34m,\u001b[0m\u001b[0;36m20\u001b[0m\u001b[0;34m)\u001b[0m\u001b[0;34m\u001b[0m\u001b[0m\n\u001b[0;32m----> 5\u001b[0;31m \u001b[0mKM\u001b[0m \u001b[0;34m=\u001b[0m \u001b[0;34m[\u001b[0m\u001b[0mKMeans\u001b[0m\u001b[0;34m(\u001b[0m\u001b[0mn_clusters\u001b[0m\u001b[0;34m=\u001b[0m\u001b[0mk\u001b[0m\u001b[0;34m)\u001b[0m\u001b[0;34m.\u001b[0m\u001b[0mfit\u001b[0m\u001b[0;34m(\u001b[0m\u001b[0mdf_cluster\u001b[0m\u001b[0;34m)\u001b[0m \u001b[0;32mfor\u001b[0m \u001b[0mk\u001b[0m \u001b[0;32min\u001b[0m \u001b[0mK\u001b[0m\u001b[0;34m]\u001b[0m\u001b[0;34m\u001b[0m\u001b[0m\n\u001b[0m\u001b[1;32m      6\u001b[0m \u001b[0mcentroids\u001b[0m \u001b[0;34m=\u001b[0m \u001b[0;34m[\u001b[0m\u001b[0mk\u001b[0m\u001b[0;34m.\u001b[0m\u001b[0mcluster_centers_\u001b[0m \u001b[0;32mfor\u001b[0m \u001b[0mk\u001b[0m \u001b[0;32min\u001b[0m \u001b[0mKM\u001b[0m\u001b[0;34m]\u001b[0m\u001b[0;34m\u001b[0m\u001b[0m\n",
      "\u001b[0;32m~/anaconda3/envs/tf/lib/python3.6/site-packages/sklearn/cluster/k_means_.py\u001b[0m in \u001b[0;36mfit\u001b[0;34m(self, X, y)\u001b[0m\n\u001b[1;32m    891\u001b[0m                 \u001b[0mtol\u001b[0m\u001b[0;34m=\u001b[0m\u001b[0mself\u001b[0m\u001b[0;34m.\u001b[0m\u001b[0mtol\u001b[0m\u001b[0;34m,\u001b[0m \u001b[0mrandom_state\u001b[0m\u001b[0;34m=\u001b[0m\u001b[0mrandom_state\u001b[0m\u001b[0;34m,\u001b[0m \u001b[0mcopy_x\u001b[0m\u001b[0;34m=\u001b[0m\u001b[0mself\u001b[0m\u001b[0;34m.\u001b[0m\u001b[0mcopy_x\u001b[0m\u001b[0;34m,\u001b[0m\u001b[0;34m\u001b[0m\u001b[0m\n\u001b[1;32m    892\u001b[0m                 \u001b[0mn_jobs\u001b[0m\u001b[0;34m=\u001b[0m\u001b[0mself\u001b[0m\u001b[0;34m.\u001b[0m\u001b[0mn_jobs\u001b[0m\u001b[0;34m,\u001b[0m \u001b[0malgorithm\u001b[0m\u001b[0;34m=\u001b[0m\u001b[0mself\u001b[0m\u001b[0;34m.\u001b[0m\u001b[0malgorithm\u001b[0m\u001b[0;34m,\u001b[0m\u001b[0;34m\u001b[0m\u001b[0m\n\u001b[0;32m--> 893\u001b[0;31m                 return_n_iter=True)\n\u001b[0m\u001b[1;32m    894\u001b[0m         \u001b[0;32mreturn\u001b[0m \u001b[0mself\u001b[0m\u001b[0;34m\u001b[0m\u001b[0m\n\u001b[1;32m    895\u001b[0m \u001b[0;34m\u001b[0m\u001b[0m\n",
      "\u001b[0;32m~/anaconda3/envs/tf/lib/python3.6/site-packages/sklearn/cluster/k_means_.py\u001b[0m in \u001b[0;36mk_means\u001b[0;34m(X, n_clusters, init, precompute_distances, n_init, max_iter, verbose, tol, random_state, copy_x, n_jobs, algorithm, return_n_iter)\u001b[0m\n\u001b[1;32m    344\u001b[0m                 \u001b[0mX\u001b[0m\u001b[0;34m,\u001b[0m \u001b[0mn_clusters\u001b[0m\u001b[0;34m,\u001b[0m \u001b[0mmax_iter\u001b[0m\u001b[0;34m=\u001b[0m\u001b[0mmax_iter\u001b[0m\u001b[0;34m,\u001b[0m \u001b[0minit\u001b[0m\u001b[0;34m=\u001b[0m\u001b[0minit\u001b[0m\u001b[0;34m,\u001b[0m \u001b[0mverbose\u001b[0m\u001b[0;34m=\u001b[0m\u001b[0mverbose\u001b[0m\u001b[0;34m,\u001b[0m\u001b[0;34m\u001b[0m\u001b[0m\n\u001b[1;32m    345\u001b[0m                 \u001b[0mprecompute_distances\u001b[0m\u001b[0;34m=\u001b[0m\u001b[0mprecompute_distances\u001b[0m\u001b[0;34m,\u001b[0m \u001b[0mtol\u001b[0m\u001b[0;34m=\u001b[0m\u001b[0mtol\u001b[0m\u001b[0;34m,\u001b[0m\u001b[0;34m\u001b[0m\u001b[0m\n\u001b[0;32m--> 346\u001b[0;31m                 x_squared_norms=x_squared_norms, random_state=random_state)\n\u001b[0m\u001b[1;32m    347\u001b[0m             \u001b[0;31m# determine if these results are the best so far\u001b[0m\u001b[0;34m\u001b[0m\u001b[0;34m\u001b[0m\u001b[0m\n\u001b[1;32m    348\u001b[0m             \u001b[0;32mif\u001b[0m \u001b[0mbest_inertia\u001b[0m \u001b[0;32mis\u001b[0m \u001b[0;32mNone\u001b[0m \u001b[0;32mor\u001b[0m \u001b[0minertia\u001b[0m \u001b[0;34m<\u001b[0m \u001b[0mbest_inertia\u001b[0m\u001b[0;34m:\u001b[0m\u001b[0;34m\u001b[0m\u001b[0m\n",
      "\u001b[0;32m~/anaconda3/envs/tf/lib/python3.6/site-packages/sklearn/cluster/k_means_.py\u001b[0m in \u001b[0;36m_kmeans_single_elkan\u001b[0;34m(X, n_clusters, max_iter, init, verbose, x_squared_norms, random_state, tol, precompute_distances)\u001b[0m\n\u001b[1;32m    398\u001b[0m         \u001b[0mprint\u001b[0m\u001b[0;34m(\u001b[0m\u001b[0;34m'Initialization complete'\u001b[0m\u001b[0;34m)\u001b[0m\u001b[0;34m\u001b[0m\u001b[0m\n\u001b[1;32m    399\u001b[0m     centers, labels, n_iter = k_means_elkan(X, n_clusters, centers, tol=tol,\n\u001b[0;32m--> 400\u001b[0;31m                                             max_iter=max_iter, verbose=verbose)\n\u001b[0m\u001b[1;32m    401\u001b[0m     \u001b[0minertia\u001b[0m \u001b[0;34m=\u001b[0m \u001b[0mnp\u001b[0m\u001b[0;34m.\u001b[0m\u001b[0msum\u001b[0m\u001b[0;34m(\u001b[0m\u001b[0;34m(\u001b[0m\u001b[0mX\u001b[0m \u001b[0;34m-\u001b[0m \u001b[0mcenters\u001b[0m\u001b[0;34m[\u001b[0m\u001b[0mlabels\u001b[0m\u001b[0;34m]\u001b[0m\u001b[0;34m)\u001b[0m \u001b[0;34m**\u001b[0m \u001b[0;36m2\u001b[0m\u001b[0;34m,\u001b[0m \u001b[0mdtype\u001b[0m\u001b[0;34m=\u001b[0m\u001b[0mnp\u001b[0m\u001b[0;34m.\u001b[0m\u001b[0mfloat64\u001b[0m\u001b[0;34m)\u001b[0m\u001b[0;34m\u001b[0m\u001b[0m\n\u001b[1;32m    402\u001b[0m     \u001b[0;32mreturn\u001b[0m \u001b[0mlabels\u001b[0m\u001b[0;34m,\u001b[0m \u001b[0minertia\u001b[0m\u001b[0;34m,\u001b[0m \u001b[0mcenters\u001b[0m\u001b[0;34m,\u001b[0m \u001b[0mn_iter\u001b[0m\u001b[0;34m\u001b[0m\u001b[0m\n",
      "\u001b[0;32msklearn/cluster/_k_means_elkan.pyx\u001b[0m in \u001b[0;36msklearn.cluster._k_means_elkan.k_means_elkan\u001b[0;34m()\u001b[0m\n",
      "\u001b[0;32m~/anaconda3/envs/tf/lib/python3.6/site-packages/numpy/core/fromnumeric.py\u001b[0m in \u001b[0;36msum\u001b[0;34m(a, axis, dtype, out, keepdims)\u001b[0m\n\u001b[1;32m   1728\u001b[0m \u001b[0;34m\u001b[0m\u001b[0m\n\u001b[1;32m   1729\u001b[0m \u001b[0;34m\u001b[0m\u001b[0m\n\u001b[0;32m-> 1730\u001b[0;31m \u001b[0;32mdef\u001b[0m \u001b[0msum\u001b[0m\u001b[0;34m(\u001b[0m\u001b[0ma\u001b[0m\u001b[0;34m,\u001b[0m \u001b[0maxis\u001b[0m\u001b[0;34m=\u001b[0m\u001b[0;32mNone\u001b[0m\u001b[0;34m,\u001b[0m \u001b[0mdtype\u001b[0m\u001b[0;34m=\u001b[0m\u001b[0;32mNone\u001b[0m\u001b[0;34m,\u001b[0m \u001b[0mout\u001b[0m\u001b[0;34m=\u001b[0m\u001b[0;32mNone\u001b[0m\u001b[0;34m,\u001b[0m \u001b[0mkeepdims\u001b[0m\u001b[0;34m=\u001b[0m\u001b[0mnp\u001b[0m\u001b[0;34m.\u001b[0m\u001b[0m_NoValue\u001b[0m\u001b[0;34m)\u001b[0m\u001b[0;34m:\u001b[0m\u001b[0;34m\u001b[0m\u001b[0m\n\u001b[0m\u001b[1;32m   1731\u001b[0m     \"\"\"\n\u001b[1;32m   1732\u001b[0m     \u001b[0mSum\u001b[0m \u001b[0mof\u001b[0m \u001b[0marray\u001b[0m \u001b[0melements\u001b[0m \u001b[0mover\u001b[0m \u001b[0ma\u001b[0m \u001b[0mgiven\u001b[0m \u001b[0maxis\u001b[0m\u001b[0;34m.\u001b[0m\u001b[0;34m\u001b[0m\u001b[0m\n",
      "\u001b[0;31mKeyboardInterrupt\u001b[0m: "
     ]
    }
   ],
   "source": [
    "from scipy.spatial.distance import cdist, pdist\n",
    "from sklearn.cluster import KMeans\n",
    "\n",
    "K = range(1,20)\n",
    "KM = [KMeans(n_clusters=k).fit(df_cluster) for k in K]\n",
    "centroids = [k.cluster_centers_ for k in KM]"
   ]
  },
  {
   "cell_type": "code",
   "execution_count": 11,
   "metadata": {
    "collapsed": true
   },
   "outputs": [],
   "source": [
    "D_k = [cdist(df_cluster, cent, 'euclidean') for cent in centroids]\n",
    "cIdx = [np.argmin(D,axis=1) for D in D_k]\n",
    "dist = [np.min(D,axis=1) for D in D_k]\n",
    "avgWithinSS = [sum(d)/df_cluster.shape[0] for d in dist]"
   ]
  },
  {
   "cell_type": "code",
   "execution_count": null,
   "metadata": {
    "collapsed": true
   },
   "outputs": [],
   "source": [
    "pdist(df_cluster,'euclidean')"
   ]
  },
  {
   "cell_type": "code",
   "execution_count": 12,
   "metadata": {
    "collapsed": false
   },
   "outputs": [
    {
     "data": {
      "text/plain": [
       "[<matplotlib.lines.Line2D at 0x7f6d90c864a8>]"
      ]
     },
     "execution_count": 12,
     "metadata": {},
     "output_type": "execute_result"
    },
    {
     "data": {
      "text/plain": [
       "[<matplotlib.lines.Line2D at 0x7f6d8eb94320>]"
      ]
     },
     "execution_count": 12,
     "metadata": {},
     "output_type": "execute_result"
    },
    {
     "data": {
      "text/plain": [
       "Text(0.5,0,'Number of clusters')"
      ]
     },
     "execution_count": 12,
     "metadata": {},
     "output_type": "execute_result"
    },
    {
     "data": {
      "text/plain": [
       "Text(0,0.5,'Average within-cluster sum of squares')"
      ]
     },
     "execution_count": 12,
     "metadata": {},
     "output_type": "execute_result"
    },
    {
     "data": {
      "text/plain": [
       "Text(0.5,1,'Elbow for KMeans clustering')"
      ]
     },
     "execution_count": 12,
     "metadata": {},
     "output_type": "execute_result"
    },
    {
     "data": {
      "image/png": "[encoded data removed]",
      "text/plain": [
       "<matplotlib.figure.Figure at 0x7f6d91c449b0>"
      ]
     },
     "metadata": {},
     "output_type": "display_data"
    }
   ],
   "source": [
    "# elbow curve\n",
    "\n",
    "kIdx = 20-2\n",
    "fig = plt.figure()\n",
    "ax = fig.add_subplot(111)\n",
    "ax.plot(K, avgWithinSS, 'b*-')\n",
    "ax.plot(K[kIdx], avgWithinSS[kIdx], marker='o', markersize=12, markeredgewidth=2, markeredgecolor='r', markerfacecolor='None')\n",
    "plt.grid(True)\n",
    "plt.xlabel('Number of clusters')\n",
    "plt.ylabel('Average within-cluster sum of squares')\n",
    "plt.title('Elbow for KMeans clustering')"
   ]
  },
  {
   "cell_type": "code",
   "execution_count": null,
   "metadata": {
    "collapsed": true
   },
   "outputs": [],
   "source": []
  },
  {
   "cell_type": "code",
   "execution_count": 72,
   "metadata": {
    "collapsed": true
   },
   "outputs": [],
   "source": [
    "kmeans=KMeans(n_clusters=10)"
   ]
  },
  {
   "cell_type": "code",
   "execution_count": 73,
   "metadata": {
    "collapsed": false
   },
   "outputs": [
    {
     "data": {
      "text/plain": [
       "KMeans(algorithm='auto', copy_x=True, init='k-means++', max_iter=300,\n",
       "    n_clusters=10, n_init=10, n_jobs=1, precompute_distances='auto',\n",
       "    random_state=None, tol=0.0001, verbose=0)"
      ]
     },
     "execution_count": 73,
     "metadata": {},
     "output_type": "execute_result"
    }
   ],
   "source": [
    "kmeans.fit(df_cluster.drop(\"Class\",axis=1))"
   ]
  },
  {
   "cell_type": "code",
   "execution_count": 74,
   "metadata": {
    "collapsed": true
   },
   "outputs": [],
   "source": [
    "k=10\n",
    "labels = pd.Series(kmeans.labels_)\n",
    "centroids = kmeans.cluster_centers_"
   ]
  },
  {
   "cell_type": "code",
   "execution_count": 75,
   "metadata": {
    "collapsed": false
   },
   "outputs": [
    {
     "name": "stderr",
     "output_type": "stream",
     "text": [
      "/home/dinesh/anaconda3/envs/tf/lib/python3.6/site-packages/ipykernel_launcher.py:1: SettingWithCopyWarning: \n",
      "A value is trying to be set on a copy of a slice from a DataFrame.\n",
      "Try using .loc[row_indexer,col_indexer] = value instead\n",
      "\n",
      "See the caveats in the documentation: http://pandas.pydata.org/pandas-docs/stable/indexing.html#indexing-view-versus-copy\n",
      "  \"\"\"Entry point for launching an IPython kernel.\n"
     ]
    }
   ],
   "source": [
    "df_cluster['clust']=labels"
   ]
  },
  {
   "cell_type": "code",
   "execution_count": 76,
   "metadata": {
    "collapsed": false
   },
   "outputs": [
    {
     "data": {
      "text/plain": [
       "1.0    159482\n",
       "9.0     41058\n",
       "8.0     15079\n",
       "0.0      6559\n",
       "4.0      2846\n",
       "6.0      1241\n",
       "2.0       495\n",
       "5.0       222\n",
       "3.0        48\n",
       "7.0         5\n",
       "Name: clust, dtype: int64"
      ]
     },
     "execution_count": 76,
     "metadata": {},
     "output_type": "execute_result"
    }
   ],
   "source": [
    "df_cluster.clust.value_counts()"
   ]
  },
  {
   "cell_type": "code",
   "execution_count": 77,
   "metadata": {
    "collapsed": true
   },
   "outputs": [],
   "source": [
    "df_cluster_0=df_cluster.loc[df_cluster['clust'] == 0.0]\n",
    "df_cluster_1=df_cluster.loc[df_cluster['clust'] == 1.0]\n",
    "df_cluster_2=df_cluster.loc[df_cluster['clust'] == 2.0]\n",
    "df_cluster_3=df_cluster.loc[df_cluster['clust'] == 3.0]\n",
    "df_cluster_4=df_cluster.loc[df_cluster['clust'] == 4.0]\n",
    "df_cluster_5=df_cluster.loc[df_cluster['clust'] == 5.0]\n",
    "df_cluster_6=df_cluster.loc[df_cluster['clust'] == 6.0]\n",
    "df_cluster_7=df_cluster.loc[df_cluster['clust'] == 7.0]\n",
    "df_cluster_8=df_cluster.loc[df_cluster['clust'] == 8.0]\n",
    "df_cluster_9=df_cluster.loc[df_cluster['clust'] == 9.0]"
   ]
  },
  {
   "cell_type": "code",
   "execution_count": 78,
   "metadata": {
    "collapsed": true
   },
   "outputs": [],
   "source": [
    "#df_sample_cluster=pd.concat([df_cluster_3.sample(frac=0.01),df_cluster_0.sample(frac=0.01),df_cluster_7.sample(frac=0.01),df_cluster_6.sample(frac=0.01),df_cluster_2.sample(frac=0.1),df_cluster_8.sample(frac=0.1),df_cluster_1,df_cluster_5,df_cluster_9,df_cluster_4])\n",
    "\n",
    "df_sample_cluster=pd.concat([df_cluster_1.sample(frac=0.01),df_cluster_9.sample(frac=0.01),df_cluster_8.sample(frac=0.01),df_cluster_0.sample(frac=0.01),df_cluster_4.sample(frac=0.1),df_cluster_6.sample(frac=0.1),df_cluster_2,df_cluster_3,df_cluster_7,df_cluster_5])"
   ]
  },
  {
   "cell_type": "code",
   "execution_count": 79,
   "metadata": {
    "collapsed": false
   },
   "outputs": [
    {
     "data": {
      "text/plain": [
       "(3402, 31)"
      ]
     },
     "execution_count": 79,
     "metadata": {},
     "output_type": "execute_result"
    }
   ],
   "source": [
    "df_sample_cluster.shape"
   ]
  },
  {
   "cell_type": "code",
   "execution_count": 80,
   "metadata": {
    "collapsed": false
   },
   "outputs": [
    {
     "data": {
      "text/plain": [
       "1.0    1595\n",
       "2.0     495\n",
       "9.0     411\n",
       "4.0     285\n",
       "5.0     222\n",
       "8.0     151\n",
       "6.0     124\n",
       "0.0      66\n",
       "3.0      48\n",
       "7.0       5\n",
       "Name: clust, dtype: int64"
      ]
     },
     "execution_count": 80,
     "metadata": {},
     "output_type": "execute_result"
    }
   ],
   "source": [
    "df_sample_cluster.clust.value_counts()"
   ]
  },
  {
   "cell_type": "code",
   "execution_count": 81,
   "metadata": {
    "collapsed": false
   },
   "outputs": [
    {
     "data": {
      "text/html": [
       "<div>\n",
       "<style>\n",
       "    .dataframe thead tr:only-child th {\n",
       "        text-align: right;\n",
       "    }\n",
       "\n",
       "    .dataframe thead th {\n",
       "        text-align: left;\n",
       "    }\n",
       "\n",
       "    .dataframe tbody tr th {\n",
       "        vertical-align: top;\n",
       "    }\n",
       "</style>\n",
       "<table border=\"1\" class=\"dataframe\">\n",
       "  <thead>\n",
       "    <tr style=\"text-align: right;\">\n",
       "      <th></th>\n",
       "      <th>V1</th>\n",
       "      <th>V2</th>\n",
       "      <th>V3</th>\n",
       "      <th>V4</th>\n",
       "      <th>V5</th>\n",
       "      <th>V6</th>\n",
       "      <th>V7</th>\n",
       "      <th>V8</th>\n",
       "      <th>V9</th>\n",
       "      <th>V10</th>\n",
       "      <th>...</th>\n",
       "      <th>V22</th>\n",
       "      <th>V23</th>\n",
       "      <th>V24</th>\n",
       "      <th>V25</th>\n",
       "      <th>V26</th>\n",
       "      <th>V27</th>\n",
       "      <th>V28</th>\n",
       "      <th>Amount</th>\n",
       "      <th>Class</th>\n",
       "      <th>clust</th>\n",
       "    </tr>\n",
       "  </thead>\n",
       "  <tbody>\n",
       "    <tr>\n",
       "      <th>199934</th>\n",
       "      <td>-0.257022</td>\n",
       "      <td>0.926352</td>\n",
       "      <td>-0.696905</td>\n",
       "      <td>-1.012072</td>\n",
       "      <td>0.803521</td>\n",
       "      <td>0.161527</td>\n",
       "      <td>0.400225</td>\n",
       "      <td>0.605277</td>\n",
       "      <td>-0.213930</td>\n",
       "      <td>-0.437131</td>\n",
       "      <td>...</td>\n",
       "      <td>-0.832947</td>\n",
       "      <td>0.043502</td>\n",
       "      <td>-0.396128</td>\n",
       "      <td>-0.374679</td>\n",
       "      <td>0.160215</td>\n",
       "      <td>0.101116</td>\n",
       "      <td>0.018917</td>\n",
       "      <td>8.99</td>\n",
       "      <td>0</td>\n",
       "      <td>1.0</td>\n",
       "    </tr>\n",
       "    <tr>\n",
       "      <th>192552</th>\n",
       "      <td>2.236114</td>\n",
       "      <td>-0.511869</td>\n",
       "      <td>-2.080279</td>\n",
       "      <td>-0.895475</td>\n",
       "      <td>-0.041324</td>\n",
       "      <td>-1.711956</td>\n",
       "      <td>0.304936</td>\n",
       "      <td>-0.625108</td>\n",
       "      <td>-0.999185</td>\n",
       "      <td>0.911978</td>\n",
       "      <td>...</td>\n",
       "      <td>1.036502</td>\n",
       "      <td>-0.087879</td>\n",
       "      <td>-0.013321</td>\n",
       "      <td>0.442594</td>\n",
       "      <td>0.084730</td>\n",
       "      <td>-0.078165</td>\n",
       "      <td>-0.078742</td>\n",
       "      <td>31.00</td>\n",
       "      <td>0</td>\n",
       "      <td>1.0</td>\n",
       "    </tr>\n",
       "    <tr>\n",
       "      <th>98993</th>\n",
       "      <td>-0.801219</td>\n",
       "      <td>1.249365</td>\n",
       "      <td>1.179805</td>\n",
       "      <td>1.261428</td>\n",
       "      <td>-0.220622</td>\n",
       "      <td>0.228266</td>\n",
       "      <td>0.168084</td>\n",
       "      <td>0.680274</td>\n",
       "      <td>-0.703073</td>\n",
       "      <td>-0.156973</td>\n",
       "      <td>...</td>\n",
       "      <td>0.390015</td>\n",
       "      <td>-0.073866</td>\n",
       "      <td>0.240609</td>\n",
       "      <td>-0.130435</td>\n",
       "      <td>-0.250507</td>\n",
       "      <td>0.298158</td>\n",
       "      <td>0.133746</td>\n",
       "      <td>13.85</td>\n",
       "      <td>0</td>\n",
       "      <td>1.0</td>\n",
       "    </tr>\n",
       "    <tr>\n",
       "      <th>223180</th>\n",
       "      <td>-0.022620</td>\n",
       "      <td>0.785036</td>\n",
       "      <td>-1.137932</td>\n",
       "      <td>-0.555141</td>\n",
       "      <td>0.209390</td>\n",
       "      <td>-0.095176</td>\n",
       "      <td>0.386935</td>\n",
       "      <td>0.541045</td>\n",
       "      <td>0.091331</td>\n",
       "      <td>-0.975526</td>\n",
       "      <td>...</td>\n",
       "      <td>-1.508874</td>\n",
       "      <td>0.575099</td>\n",
       "      <td>-0.023337</td>\n",
       "      <td>-1.332301</td>\n",
       "      <td>-0.277858</td>\n",
       "      <td>-0.202588</td>\n",
       "      <td>-0.051718</td>\n",
       "      <td>81.00</td>\n",
       "      <td>0</td>\n",
       "      <td>1.0</td>\n",
       "    </tr>\n",
       "    <tr>\n",
       "      <th>68072</th>\n",
       "      <td>1.002656</td>\n",
       "      <td>-1.570845</td>\n",
       "      <td>0.784708</td>\n",
       "      <td>-0.605882</td>\n",
       "      <td>-1.779542</td>\n",
       "      <td>-0.077622</td>\n",
       "      <td>-1.183360</td>\n",
       "      <td>0.130541</td>\n",
       "      <td>0.114864</td>\n",
       "      <td>0.538741</td>\n",
       "      <td>...</td>\n",
       "      <td>0.835663</td>\n",
       "      <td>-0.332157</td>\n",
       "      <td>-0.321564</td>\n",
       "      <td>0.276943</td>\n",
       "      <td>-0.014186</td>\n",
       "      <td>0.006483</td>\n",
       "      <td>0.058184</td>\n",
       "      <td>218.00</td>\n",
       "      <td>0</td>\n",
       "      <td>1.0</td>\n",
       "    </tr>\n",
       "  </tbody>\n",
       "</table>\n",
       "<p>5 rows × 31 columns</p>\n",
       "</div>"
      ],
      "text/plain": [
       "              V1        V2        V3        V4        V5        V6        V7  \\\n",
       "199934 -0.257022  0.926352 -0.696905 -1.012072  0.803521  0.161527  0.400225   \n",
       "192552  2.236114 -0.511869 -2.080279 -0.895475 -0.041324 -1.711956  0.304936   \n",
       "98993  -0.801219  1.249365  1.179805  1.261428 -0.220622  0.228266  0.168084   \n",
       "223180 -0.022620  0.785036 -1.137932 -0.555141  0.209390 -0.095176  0.386935   \n",
       "68072   1.002656 -1.570845  0.784708 -0.605882 -1.779542 -0.077622 -1.183360   \n",
       "\n",
       "              V8        V9       V10  ...         V22       V23       V24  \\\n",
       "199934  0.605277 -0.213930 -0.437131  ...   -0.832947  0.043502 -0.396128   \n",
       "192552 -0.625108 -0.999185  0.911978  ...    1.036502 -0.087879 -0.013321   \n",
       "98993   0.680274 -0.703073 -0.156973  ...    0.390015 -0.073866  0.240609   \n",
       "223180  0.541045  0.091331 -0.975526  ...   -1.508874  0.575099 -0.023337   \n",
       "68072   0.130541  0.114864  0.538741  ...    0.835663 -0.332157 -0.321564   \n",
       "\n",
       "             V25       V26       V27       V28  Amount  Class  clust  \n",
       "199934 -0.374679  0.160215  0.101116  0.018917    8.99      0    1.0  \n",
       "192552  0.442594  0.084730 -0.078165 -0.078742   31.00      0    1.0  \n",
       "98993  -0.130435 -0.250507  0.298158  0.133746   13.85      0    1.0  \n",
       "223180 -1.332301 -0.277858 -0.202588 -0.051718   81.00      0    1.0  \n",
       "68072   0.276943 -0.014186  0.006483  0.058184  218.00      0    1.0  \n",
       "\n",
       "[5 rows x 31 columns]"
      ]
     },
     "execution_count": 81,
     "metadata": {},
     "output_type": "execute_result"
    }
   ],
   "source": [
    "df_sample_cluster.head()"
   ]
  },
  {
   "cell_type": "code",
   "execution_count": 82,
   "metadata": {
    "collapsed": true
   },
   "outputs": [],
   "source": [
    "df_sample_cluster=df_sample_cluster.drop('clust',axis=1)"
   ]
  },
  {
   "cell_type": "code",
   "execution_count": 83,
   "metadata": {
    "collapsed": true
   },
   "outputs": [],
   "source": [
    "df_sample=pd.concat([df_full.iloc[:492,:],df_sample_cluster])"
   ]
  },
  {
   "cell_type": "code",
   "execution_count": 84,
   "metadata": {
    "collapsed": false
   },
   "outputs": [
    {
     "data": {
      "text/plain": [
       "0    3501\n",
       "1     393\n",
       "Name: Class, dtype: int64"
      ]
     },
     "execution_count": 84,
     "metadata": {},
     "output_type": "execute_result"
    }
   ],
   "source": [
    "df_sample.Class.value_counts()"
   ]
  },
  {
   "cell_type": "code",
   "execution_count": 85,
   "metadata": {
    "collapsed": true
   },
   "outputs": [],
   "source": [
    "feature = np.array(df_sample.values[:,0:29])\n",
    "label = np.array(df_sample.values[:,-1])"
   ]
  },
  {
   "cell_type": "code",
   "execution_count": 86,
   "metadata": {
    "collapsed": true
   },
   "outputs": [],
   "source": [
    "\n",
    "from sklearn.model_selection import train_test_split\n",
    "df_train, df_test = train_test_split(df_sample, test_size=0.2, random_state=40)\n",
    "#df_train = shuffle_df[0:4000]\n",
    "#df_test = shuffle_df[4000:]"
   ]
  },
  {
   "cell_type": "code",
   "execution_count": 87,
   "metadata": {
    "collapsed": true
   },
   "outputs": [],
   "source": [
    "train_feature = np.array(df_train.values[:,0:29])\n",
    "train_label = np.array(df_train.values[:,-1])\n",
    "test_feature = np.array(df_test.values[:,0:29])\n",
    "test_label = np.array(df_test.values[:,-1])"
   ]
  },
  {
   "cell_type": "code",
   "execution_count": 88,
   "metadata": {
    "collapsed": false
   },
   "outputs": [
    {
     "data": {
      "text/plain": [
       "MinMaxScaler(copy=True, feature_range=(0, 1))"
      ]
     },
     "execution_count": 88,
     "metadata": {},
     "output_type": "execute_result"
    }
   ],
   "source": [
    "from sklearn.preprocessing import MinMaxScaler\n",
    "\n",
    "scaler = MinMaxScaler()\n",
    "\n",
    "scaler.fit(train_feature)\n",
    "train_feature_trans = scaler.transform(train_feature)\n",
    "test_feature_trans = scaler.transform(test_feature)"
   ]
  },
  {
   "cell_type": "code",
   "execution_count": 89,
   "metadata": {
    "collapsed": false
   },
   "outputs": [
    {
     "data": {
      "text/plain": [
       "((3115, 29), (779, 29))"
      ]
     },
     "execution_count": 89,
     "metadata": {},
     "output_type": "execute_result"
    }
   ],
   "source": [
    "train_feature_trans.shape,test_feature_trans.shape"
   ]
  },
  {
   "cell_type": "code",
   "execution_count": 90,
   "metadata": {
    "collapsed": true
   },
   "outputs": [],
   "source": [
    "# Building the encoder.\n",
    "encoder = tflearn.input_data(shape=[None, 29])\n",
    "encoder = tflearn.fully_connected(encoder, 128)\n",
    "encoder = tflearn.fully_connected(encoder, 64)\n",
    "\n",
    "# Building the decoder.\n",
    "decoder = tflearn.fully_connected(encoder, 128)\n",
    "decoder = tflearn.fully_connected(decoder, 29)"
   ]
  },
  {
   "cell_type": "code",
   "execution_count": 91,
   "metadata": {
    "collapsed": true
   },
   "outputs": [],
   "source": [
    "# Regression, with mean square error.\n",
    "net = tflearn.regression(decoder, optimizer='adam', learning_rate=0.001, loss='mean_square', metric=None)"
   ]
  },
  {
   "cell_type": "code",
   "execution_count": 92,
   "metadata": {
    "collapsed": false
   },
   "outputs": [
    {
     "name": "stdout",
     "output_type": "stream",
     "text": [
      "Training Step: 1299  | total loss: \u001b[1m\u001b[32m0.00537\u001b[0m\u001b[0m | time: 0.147s\n",
      "| Adam | epoch: 100 | loss: 0.00537 -- iter: 3072/3115\n",
      "Training Step: 1300  | total loss: \u001b[1m\u001b[32m0.00536\u001b[0m\u001b[0m | time: 1.163s\n",
      "| Adam | epoch: 100 | loss: 0.00536 | val_loss: 0.00509 -- iter: 3115/3115\n",
      "--\n"
     ]
    }
   ],
   "source": [
    "# Training the auto encoder.\n",
    "model = tflearn.DNN(net, tensorboard_verbose=0)\n",
    "model.fit(train_feature_trans, train_feature_trans, n_epoch=100, validation_set=(test_feature_trans,test_feature_trans),run_id=\"auto_encoder\", batch_size=256)"
   ]
  },
  {
   "cell_type": "code",
   "execution_count": 93,
   "metadata": {
    "collapsed": true
   },
   "outputs": [],
   "source": [
    "#encode_decode = np.array(model.predict(testX))\n",
    "\n",
    "# New model, re-using the same session, for weights sharing.\n",
    "encoding_model = tflearn.DNN(encoder, session=model.session)\n",
    "#new_X = np.array(encoding_model.predict(X))\n",
    "#new_testX = np.array(encoding_model.predict(testX))\n",
    "new_X = np.array(model.predict(train_feature_trans))\n",
    "new_testX = np.array(model.predict(test_feature_trans))"
   ]
  },
  {
   "cell_type": "code",
   "execution_count": 94,
   "metadata": {
    "collapsed": false
   },
   "outputs": [
    {
     "name": "stderr",
     "output_type": "stream",
     "text": [
      "Using TensorFlow backend.\n"
     ]
    }
   ],
   "source": [
    "from keras.models import Sequential\n",
    "from keras.layers import Dense\n",
    "from keras.layers import Dropout\n",
    "\n",
    "import matplotlib.pyplot as plt \n",
    "def show_train_history(train_history,train,validation):\n",
    "    plt.plot(train_history.history[train])\n",
    "    plt.plot(train_history.history[validation])\n",
    "    plt.title('Train History')\n",
    "    plt.ylabel(train)\n",
    "    plt.xlabel('Epoch')\n",
    "    plt.legend(['train', 'validation'], loc='best')\n",
    "    plt.show()\n"
   ]
  },
  {
   "cell_type": "code",
   "execution_count": 95,
   "metadata": {
    "collapsed": false
   },
   "outputs": [
    {
     "name": "stdout",
     "output_type": "stream",
     "text": [
      "_________________________________________________________________\n",
      "Layer (type)                 Output Shape              Param #   \n",
      "=================================================================\n",
      "dense_1 (Dense)              (None, 200)               6000      \n",
      "_________________________________________________________________\n",
      "dropout_1 (Dropout)          (None, 200)               0         \n",
      "_________________________________________________________________\n",
      "dense_2 (Dense)              (None, 200)               40200     \n",
      "_________________________________________________________________\n",
      "dropout_2 (Dropout)          (None, 200)               0         \n",
      "_________________________________________________________________\n",
      "dense_3 (Dense)              (None, 1)                 201       \n",
      "=================================================================\n",
      "Total params: 46,401\n",
      "Trainable params: 46,401\n",
      "Non-trainable params: 0\n",
      "_________________________________________________________________\n",
      "None\n"
     ]
    }
   ],
   "source": [
    "model = Sequential() \n",
    "\n",
    "model.add(Dense(units=200, \n",
    "                input_dim=29, \n",
    "                kernel_initializer='glorot_normal', \n",
    "                activation='tanh'))\n",
    "model.add(Dropout(0.0))\n",
    "\n",
    "\n",
    "model.add(Dense(units=200,  \n",
    "                kernel_initializer='glorot_normal', \n",
    "                activation='tanh'))\n",
    "model.add(Dropout(0.0))\n",
    "\n",
    "\n",
    "model.add(Dense(units=1, \n",
    "                kernel_initializer='glorot_normal',\n",
    "                activation='sigmoid'))\n",
    "\n",
    "print(model.summary()) \n"
   ]
  },
  {
   "cell_type": "code",
   "execution_count": 96,
   "metadata": {
    "collapsed": false
   },
   "outputs": [
    {
     "name": "stdout",
     "output_type": "stream",
     "text": [
      "Train on 622 samples, validate on 2493 samples\n",
      "Epoch 1/200\n",
      "0s - loss: 0.7908 - acc: 0.2476 - val_loss: 0.3561 - val_acc: 0.9005\n",
      "Epoch 2/200\n",
      "0s - loss: 0.3643 - acc: 0.8907 - val_loss: 0.3039 - val_acc: 0.9005\n",
      "Epoch 3/200\n",
      "0s - loss: 0.3288 - acc: 0.8907 - val_loss: 0.3316 - val_acc: 0.9005\n",
      "Epoch 4/200\n",
      "0s - loss: 0.3625 - acc: 0.8907 - val_loss: 0.3465 - val_acc: 0.9005\n",
      "Epoch 5/200\n",
      "0s - loss: 0.3777 - acc: 0.8907 - val_loss: 0.3392 - val_acc: 0.9005\n",
      "Epoch 6/200\n",
      "0s - loss: 0.3672 - acc: 0.8907 - val_loss: 0.3168 - val_acc: 0.9005\n",
      "Epoch 7/200\n",
      "0s - loss: 0.3413 - acc: 0.8907 - val_loss: 0.2906 - val_acc: 0.9005\n",
      "Epoch 8/200\n",
      "0s - loss: 0.3114 - acc: 0.8907 - val_loss: 0.2728 - val_acc: 0.9005\n",
      "Epoch 9/200\n",
      "0s - loss: 0.2893 - acc: 0.8907 - val_loss: 0.2719 - val_acc: 0.9005\n",
      "Epoch 10/200\n",
      "0s - loss: 0.2867 - acc: 0.8907 - val_loss: 0.2832 - val_acc: 0.9005\n",
      "Epoch 11/200\n",
      "0s - loss: 0.2947 - acc: 0.8907 - val_loss: 0.2864 - val_acc: 0.9089\n",
      "Epoch 12/200\n",
      "0s - loss: 0.2957 - acc: 0.8987 - val_loss: 0.2717 - val_acc: 0.9150\n",
      "Epoch 13/200\n",
      "0s - loss: 0.2810 - acc: 0.9035 - val_loss: 0.2526 - val_acc: 0.9021\n",
      "Epoch 14/200\n",
      "0s - loss: 0.2638 - acc: 0.8907 - val_loss: 0.2424 - val_acc: 0.9005\n",
      "Epoch 15/200\n",
      "0s - loss: 0.2561 - acc: 0.8907 - val_loss: 0.2392 - val_acc: 0.9005\n",
      "Epoch 16/200\n",
      "0s - loss: 0.2547 - acc: 0.8907 - val_loss: 0.2369 - val_acc: 0.9005\n",
      "Epoch 17/200\n",
      "0s - loss: 0.2527 - acc: 0.8907 - val_loss: 0.2314 - val_acc: 0.9138\n",
      "Epoch 18/200\n",
      "0s - loss: 0.2463 - acc: 0.9035 - val_loss: 0.2223 - val_acc: 0.9226\n",
      "Epoch 19/200\n",
      "0s - loss: 0.2348 - acc: 0.9100 - val_loss: 0.2131 - val_acc: 0.9286\n",
      "Epoch 20/200\n",
      "0s - loss: 0.2240 - acc: 0.9148 - val_loss: 0.2099 - val_acc: 0.9290\n",
      "Epoch 21/200\n",
      "0s - loss: 0.2179 - acc: 0.9196 - val_loss: 0.2103 - val_acc: 0.9366\n",
      "Epoch 22/200\n",
      "0s - loss: 0.2172 - acc: 0.9293 - val_loss: 0.2053 - val_acc: 0.9370\n",
      "Epoch 23/200\n",
      "0s - loss: 0.2109 - acc: 0.9293 - val_loss: 0.1937 - val_acc: 0.9370\n",
      "Epoch 24/200\n",
      "0s - loss: 0.2000 - acc: 0.9293 - val_loss: 0.1854 - val_acc: 0.9366\n",
      "Epoch 25/200\n",
      "0s - loss: 0.1924 - acc: 0.9293 - val_loss: 0.1817 - val_acc: 0.9366\n",
      "Epoch 26/200\n",
      "0s - loss: 0.1898 - acc: 0.9293 - val_loss: 0.1778 - val_acc: 0.9370\n",
      "Epoch 27/200\n",
      "0s - loss: 0.1846 - acc: 0.9293 - val_loss: 0.1716 - val_acc: 0.9390\n",
      "Epoch 28/200\n",
      "0s - loss: 0.1768 - acc: 0.9325 - val_loss: 0.1673 - val_acc: 0.9438\n",
      "Epoch 29/200\n",
      "0s - loss: 0.1724 - acc: 0.9405 - val_loss: 0.1654 - val_acc: 0.9479\n",
      "Epoch 30/200\n",
      "0s - loss: 0.1691 - acc: 0.9486 - val_loss: 0.1603 - val_acc: 0.9479\n",
      "Epoch 31/200\n",
      "0s - loss: 0.1643 - acc: 0.9486 - val_loss: 0.1552 - val_acc: 0.9479\n",
      "Epoch 32/200\n",
      "0s - loss: 0.1589 - acc: 0.9486 - val_loss: 0.1516 - val_acc: 0.9479\n",
      "Epoch 33/200\n",
      "0s - loss: 0.1552 - acc: 0.9486 - val_loss: 0.1484 - val_acc: 0.9479\n",
      "Epoch 34/200\n",
      "0s - loss: 0.1522 - acc: 0.9486 - val_loss: 0.1452 - val_acc: 0.9483\n",
      "Epoch 35/200\n",
      "0s - loss: 0.1486 - acc: 0.9518 - val_loss: 0.1420 - val_acc: 0.9535\n",
      "Epoch 36/200\n",
      "0s - loss: 0.1455 - acc: 0.9518 - val_loss: 0.1391 - val_acc: 0.9571\n",
      "Epoch 37/200\n",
      "0s - loss: 0.1434 - acc: 0.9582 - val_loss: 0.1366 - val_acc: 0.9575\n",
      "Epoch 38/200\n",
      "0s - loss: 0.1402 - acc: 0.9582 - val_loss: 0.1355 - val_acc: 0.9555\n",
      "Epoch 39/200\n",
      "0s - loss: 0.1390 - acc: 0.9518 - val_loss: 0.1344 - val_acc: 0.9563\n",
      "Epoch 40/200\n",
      "0s - loss: 0.1381 - acc: 0.9550 - val_loss: 0.1316 - val_acc: 0.9575\n",
      "Epoch 41/200\n",
      "0s - loss: 0.1352 - acc: 0.9582 - val_loss: 0.1285 - val_acc: 0.9587\n",
      "Epoch 42/200\n",
      "0s - loss: 0.1327 - acc: 0.9598 - val_loss: 0.1274 - val_acc: 0.9631\n",
      "Epoch 43/200\n",
      "0s - loss: 0.1322 - acc: 0.9646 - val_loss: 0.1256 - val_acc: 0.9635\n",
      "Epoch 44/200\n",
      "0s - loss: 0.1306 - acc: 0.9614 - val_loss: 0.1241 - val_acc: 0.9615\n",
      "Epoch 45/200\n",
      "0s - loss: 0.1291 - acc: 0.9614 - val_loss: 0.1236 - val_acc: 0.9611\n",
      "Epoch 46/200\n",
      "0s - loss: 0.1286 - acc: 0.9582 - val_loss: 0.1240 - val_acc: 0.9599\n",
      "Epoch 47/200\n",
      "0s - loss: 0.1284 - acc: 0.9582 - val_loss: 0.1213 - val_acc: 0.9619\n",
      "Epoch 48/200\n",
      "0s - loss: 0.1259 - acc: 0.9630 - val_loss: 0.1198 - val_acc: 0.9679\n",
      "Epoch 49/200\n",
      "0s - loss: 0.1256 - acc: 0.9711 - val_loss: 0.1195 - val_acc: 0.9711\n",
      "Epoch 50/200\n",
      "0s - loss: 0.1252 - acc: 0.9743 - val_loss: 0.1178 - val_acc: 0.9671\n",
      "Epoch 51/200\n",
      "0s - loss: 0.1230 - acc: 0.9695 - val_loss: 0.1208 - val_acc: 0.9615\n",
      "Epoch 52/200\n",
      "0s - loss: 0.1256 - acc: 0.9598 - val_loss: 0.1231 - val_acc: 0.9607\n",
      "Epoch 53/200\n",
      "0s - loss: 0.1276 - acc: 0.9582 - val_loss: 0.1163 - val_acc: 0.9671\n",
      "Epoch 54/200\n",
      "0s - loss: 0.1239 - acc: 0.9711 - val_loss: 0.1163 - val_acc: 0.9747\n",
      "Epoch 55/200\n",
      "0s - loss: 0.1238 - acc: 0.9775 - val_loss: 0.1139 - val_acc: 0.9731\n",
      "Epoch 56/200\n",
      "0s - loss: 0.1204 - acc: 0.9759 - val_loss: 0.1151 - val_acc: 0.9679\n",
      "Epoch 57/200\n",
      "0s - loss: 0.1213 - acc: 0.9695 - val_loss: 0.1203 - val_acc: 0.9623\n",
      "Epoch 58/200\n",
      "0s - loss: 0.1256 - acc: 0.9630 - val_loss: 0.1155 - val_acc: 0.9671\n",
      "Epoch 59/200\n",
      "0s - loss: 0.1204 - acc: 0.9695 - val_loss: 0.1120 - val_acc: 0.9751\n",
      "Epoch 60/200\n",
      "0s - loss: 0.1221 - acc: 0.9775 - val_loss: 0.1149 - val_acc: 0.9767\n",
      "Epoch 61/200\n",
      "0s - loss: 0.1237 - acc: 0.9775 - val_loss: 0.1103 - val_acc: 0.9731\n",
      "Epoch 62/200\n",
      "0s - loss: 0.1175 - acc: 0.9759 - val_loss: 0.1142 - val_acc: 0.9687\n",
      "Epoch 63/200\n",
      "0s - loss: 0.1210 - acc: 0.9727 - val_loss: 0.1166 - val_acc: 0.9671\n",
      "Epoch 64/200\n",
      "0s - loss: 0.1225 - acc: 0.9727 - val_loss: 0.1109 - val_acc: 0.9723\n",
      "Epoch 65/200\n",
      "0s - loss: 0.1169 - acc: 0.9743 - val_loss: 0.1107 - val_acc: 0.9767\n",
      "Epoch 66/200\n",
      "0s - loss: 0.1222 - acc: 0.9775 - val_loss: 0.1138 - val_acc: 0.9771\n",
      "Epoch 67/200\n",
      "0s - loss: 0.1226 - acc: 0.9775 - val_loss: 0.1086 - val_acc: 0.9731\n",
      "Epoch 68/200\n",
      "0s - loss: 0.1172 - acc: 0.9759 - val_loss: 0.1157 - val_acc: 0.9679\n",
      "Epoch 69/200\n",
      "0s - loss: 0.1228 - acc: 0.9695 - val_loss: 0.1128 - val_acc: 0.9707\n",
      "Epoch 70/200\n",
      "0s - loss: 0.1203 - acc: 0.9727 - val_loss: 0.1072 - val_acc: 0.9755\n",
      "Epoch 71/200\n",
      "0s - loss: 0.1175 - acc: 0.9775 - val_loss: 0.1075 - val_acc: 0.9763\n",
      "Epoch 72/200\n",
      "0s - loss: 0.1170 - acc: 0.9775 - val_loss: 0.1071 - val_acc: 0.9747\n",
      "Epoch 73/200\n",
      "0s - loss: 0.1170 - acc: 0.9775 - val_loss: 0.1087 - val_acc: 0.9731\n",
      "Epoch 74/200\n",
      "0s - loss: 0.1170 - acc: 0.9759 - val_loss: 0.1066 - val_acc: 0.9751\n",
      "Epoch 75/200\n",
      "0s - loss: 0.1155 - acc: 0.9775 - val_loss: 0.1067 - val_acc: 0.9771\n",
      "Epoch 76/200\n",
      "0s - loss: 0.1168 - acc: 0.9775 - val_loss: 0.1089 - val_acc: 0.9775\n",
      "Epoch 77/200\n",
      "0s - loss: 0.1197 - acc: 0.9775 - val_loss: 0.1058 - val_acc: 0.9759\n",
      "Epoch 78/200\n",
      "0s - loss: 0.1151 - acc: 0.9775 - val_loss: 0.1111 - val_acc: 0.9723\n",
      "Epoch 79/200\n",
      "0s - loss: 0.1197 - acc: 0.9743 - val_loss: 0.1146 - val_acc: 0.9711\n",
      "Epoch 80/200\n",
      "0s - loss: 0.1219 - acc: 0.9727 - val_loss: 0.1081 - val_acc: 0.9731\n",
      "Epoch 81/200\n",
      "0s - loss: 0.1165 - acc: 0.9775 - val_loss: 0.1052 - val_acc: 0.9771\n",
      "Epoch 82/200\n",
      "0s - loss: 0.1161 - acc: 0.9775 - val_loss: 0.1074 - val_acc: 0.9779\n",
      "Epoch 83/200\n",
      "0s - loss: 0.1187 - acc: 0.9775 - val_loss: 0.1046 - val_acc: 0.9767\n",
      "Epoch 84/200\n",
      "0s - loss: 0.1142 - acc: 0.9775 - val_loss: 0.1106 - val_acc: 0.9727\n",
      "Epoch 85/200\n",
      "0s - loss: 0.1194 - acc: 0.9759 - val_loss: 0.1159 - val_acc: 0.9715\n",
      "Epoch 86/200\n",
      "0s - loss: 0.1234 - acc: 0.9743 - val_loss: 0.1093 - val_acc: 0.9731\n",
      "Epoch 87/200\n",
      "0s - loss: 0.1164 - acc: 0.9759 - val_loss: 0.1049 - val_acc: 0.9775\n",
      "Epoch 88/200\n",
      "0s - loss: 0.1159 - acc: 0.9775 - val_loss: 0.1192 - val_acc: 0.9783\n",
      "Epoch 89/200\n",
      "0s - loss: 0.1317 - acc: 0.9775 - val_loss: 0.1046 - val_acc: 0.9775\n",
      "Epoch 90/200\n",
      "0s - loss: 0.1168 - acc: 0.9775 - val_loss: 0.1120 - val_acc: 0.9723\n",
      "Epoch 91/200\n",
      "0s - loss: 0.1220 - acc: 0.9759 - val_loss: 0.1154 - val_acc: 0.9723\n",
      "Epoch 92/200\n",
      "0s - loss: 0.1230 - acc: 0.9743 - val_loss: 0.1060 - val_acc: 0.9755\n",
      "Epoch 93/200\n",
      "0s - loss: 0.1161 - acc: 0.9775 - val_loss: 0.1043 - val_acc: 0.9775\n",
      "Epoch 94/200\n",
      "0s - loss: 0.1160 - acc: 0.9775 - val_loss: 0.1066 - val_acc: 0.9787\n",
      "Epoch 95/200\n",
      "0s - loss: 0.1190 - acc: 0.9775 - val_loss: 0.1040 - val_acc: 0.9775\n",
      "Epoch 96/200\n",
      "0s - loss: 0.1153 - acc: 0.9775 - val_loss: 0.1054 - val_acc: 0.9755\n",
      "Epoch 97/200\n",
      "0s - loss: 0.1161 - acc: 0.9775 - val_loss: 0.1087 - val_acc: 0.9735\n",
      "Epoch 98/200\n",
      "0s - loss: 0.1179 - acc: 0.9775 - val_loss: 0.1056 - val_acc: 0.9755\n",
      "Epoch 99/200\n",
      "0s - loss: 0.1151 - acc: 0.9775 - val_loss: 0.1035 - val_acc: 0.9771\n",
      "Epoch 100/200\n",
      "0s - loss: 0.1152 - acc: 0.9775 - val_loss: 0.1062 - val_acc: 0.9787\n",
      "Epoch 101/200\n",
      "0s - loss: 0.1187 - acc: 0.9775 - val_loss: 0.1033 - val_acc: 0.9771\n",
      "Epoch 102/200\n",
      "0s - loss: 0.1147 - acc: 0.9775 - val_loss: 0.1076 - val_acc: 0.9747\n",
      "Epoch 103/200\n",
      "0s - loss: 0.1174 - acc: 0.9775 - val_loss: 0.1106 - val_acc: 0.9731\n",
      "Epoch 104/200\n",
      "0s - loss: 0.1194 - acc: 0.9759 - val_loss: 0.1052 - val_acc: 0.9755\n",
      "Epoch 105/200\n",
      "0s - loss: 0.1155 - acc: 0.9775 - val_loss: 0.1044 - val_acc: 0.9783\n",
      "Epoch 106/200\n",
      "0s - loss: 0.1178 - acc: 0.9775 - val_loss: 0.1044 - val_acc: 0.9783\n",
      "Epoch 107/200\n",
      "0s - loss: 0.1163 - acc: 0.9775 - val_loss: 0.1043 - val_acc: 0.9759\n",
      "Epoch 108/200\n",
      "0s - loss: 0.1171 - acc: 0.9775 - val_loss: 0.1056 - val_acc: 0.9755\n",
      "Epoch 109/200\n",
      "0s - loss: 0.1159 - acc: 0.9775 - val_loss: 0.1030 - val_acc: 0.9771\n",
      "Epoch 110/200\n",
      "0s - loss: 0.1143 - acc: 0.9775 - val_loss: 0.1037 - val_acc: 0.9779\n",
      "Epoch 111/200\n",
      "0s - loss: 0.1159 - acc: 0.9775 - val_loss: 0.1039 - val_acc: 0.9783\n",
      "Epoch 112/200\n",
      "0s - loss: 0.1164 - acc: 0.9775 - val_loss: 0.1030 - val_acc: 0.9771\n",
      "Epoch 113/200\n",
      "0s - loss: 0.1152 - acc: 0.9775 - val_loss: 0.1029 - val_acc: 0.9771\n",
      "Epoch 114/200\n",
      "0s - loss: 0.1145 - acc: 0.9775 - val_loss: 0.1029 - val_acc: 0.9771\n",
      "Epoch 115/200\n",
      "0s - loss: 0.1151 - acc: 0.9775 - val_loss: 0.1029 - val_acc: 0.9771\n",
      "Epoch 116/200\n",
      "0s - loss: 0.1147 - acc: 0.9775 - val_loss: 0.1032 - val_acc: 0.9775\n",
      "Epoch 117/200\n",
      "0s - loss: 0.1152 - acc: 0.9775 - val_loss: 0.1029 - val_acc: 0.9771\n",
      "Epoch 118/200\n",
      "0s - loss: 0.1142 - acc: 0.9775 - val_loss: 0.1043 - val_acc: 0.9759\n",
      "Epoch 119/200\n",
      "0s - loss: 0.1152 - acc: 0.9775 - val_loss: 0.1049 - val_acc: 0.9755\n",
      "Epoch 120/200\n",
      "0s - loss: 0.1149 - acc: 0.9775 - val_loss: 0.1031 - val_acc: 0.9775\n",
      "Epoch 121/200\n",
      "0s - loss: 0.1145 - acc: 0.9775 - val_loss: 0.1035 - val_acc: 0.9775\n",
      "Epoch 122/200\n",
      "0s - loss: 0.1153 - acc: 0.9775 - val_loss: 0.1032 - val_acc: 0.9771\n",
      "Epoch 123/200\n",
      "0s - loss: 0.1145 - acc: 0.9775 - val_loss: 0.1035 - val_acc: 0.9771\n",
      "Epoch 124/200\n",
      "0s - loss: 0.1141 - acc: 0.9775 - val_loss: 0.1050 - val_acc: 0.9755\n",
      "Epoch 125/200\n",
      "0s - loss: 0.1153 - acc: 0.9775 - val_loss: 0.1058 - val_acc: 0.9755\n",
      "Epoch 126/200\n",
      "0s - loss: 0.1152 - acc: 0.9775 - val_loss: 0.1034 - val_acc: 0.9771\n",
      "Epoch 127/200\n",
      "0s - loss: 0.1141 - acc: 0.9775 - val_loss: 0.1099 - val_acc: 0.9787\n",
      "Epoch 128/200\n",
      "0s - loss: 0.1225 - acc: 0.9775 - val_loss: 0.1055 - val_acc: 0.9783\n",
      "Epoch 129/200\n",
      "0s - loss: 0.1167 - acc: 0.9775 - val_loss: 0.1049 - val_acc: 0.9755\n",
      "Epoch 130/200\n",
      "0s - loss: 0.1144 - acc: 0.9775 - val_loss: 0.1115 - val_acc: 0.9731\n",
      "Epoch 131/200\n",
      "0s - loss: 0.1202 - acc: 0.9759 - val_loss: 0.1113 - val_acc: 0.9731\n",
      "Epoch 132/200\n",
      "0s - loss: 0.1189 - acc: 0.9759 - val_loss: 0.1041 - val_acc: 0.9759\n",
      "Epoch 133/200\n",
      "0s - loss: 0.1148 - acc: 0.9775 - val_loss: 0.1053 - val_acc: 0.9783\n",
      "Epoch 134/200\n",
      "0s - loss: 0.1171 - acc: 0.9775 - val_loss: 0.1049 - val_acc: 0.9779\n",
      "Epoch 135/200\n",
      "0s - loss: 0.1163 - acc: 0.9775 - val_loss: 0.1036 - val_acc: 0.9771\n",
      "Epoch 136/200\n",
      "0s - loss: 0.1139 - acc: 0.9775 - val_loss: 0.1058 - val_acc: 0.9755\n",
      "Epoch 137/200\n",
      "0s - loss: 0.1152 - acc: 0.9775 - val_loss: 0.1073 - val_acc: 0.9747\n",
      "Epoch 138/200\n",
      "0s - loss: 0.1164 - acc: 0.9775 - val_loss: 0.1062 - val_acc: 0.9755\n",
      "Epoch 139/200\n",
      "0s - loss: 0.1155 - acc: 0.9775 - val_loss: 0.1044 - val_acc: 0.9759\n",
      "Epoch 140/200\n",
      "0s - loss: 0.1143 - acc: 0.9775 - val_loss: 0.1035 - val_acc: 0.9771\n",
      "Epoch 141/200\n",
      "0s - loss: 0.1139 - acc: 0.9775 - val_loss: 0.1033 - val_acc: 0.9775\n",
      "Epoch 142/200\n",
      "0s - loss: 0.1146 - acc: 0.9775 - val_loss: 0.1035 - val_acc: 0.9771\n",
      "Epoch 143/200\n",
      "0s - loss: 0.1141 - acc: 0.9775 - val_loss: 0.1061 - val_acc: 0.9755\n",
      "Epoch 144/200\n",
      "0s - loss: 0.1155 - acc: 0.9775 - val_loss: 0.1059 - val_acc: 0.9755\n",
      "Epoch 145/200\n",
      "0s - loss: 0.1151 - acc: 0.9775 - val_loss: 0.1035 - val_acc: 0.9771\n",
      "Epoch 146/200\n",
      "0s - loss: 0.1137 - acc: 0.9775 - val_loss: 0.1040 - val_acc: 0.9779\n",
      "Epoch 147/200\n",
      "0s - loss: 0.1157 - acc: 0.9775 - val_loss: 0.1037 - val_acc: 0.9775\n",
      "Epoch 148/200\n",
      "0s - loss: 0.1151 - acc: 0.9775 - val_loss: 0.1038 - val_acc: 0.9767\n",
      "Epoch 149/200\n",
      "0s - loss: 0.1141 - acc: 0.9775 - val_loss: 0.1046 - val_acc: 0.9759\n",
      "Epoch 150/200\n",
      "0s - loss: 0.1143 - acc: 0.9775 - val_loss: 0.1037 - val_acc: 0.9767\n",
      "Epoch 151/200\n",
      "0s - loss: 0.1143 - acc: 0.9775 - val_loss: 0.1037 - val_acc: 0.9771\n",
      "Epoch 152/200\n",
      "0s - loss: 0.1136 - acc: 0.9775 - val_loss: 0.1051 - val_acc: 0.9755\n",
      "Epoch 153/200\n",
      "0s - loss: 0.1146 - acc: 0.9775 - val_loss: 0.1076 - val_acc: 0.9747\n",
      "Epoch 154/200\n",
      "0s - loss: 0.1167 - acc: 0.9775 - val_loss: 0.1077 - val_acc: 0.9747\n",
      "Epoch 155/200\n",
      "0s - loss: 0.1162 - acc: 0.9775 - val_loss: 0.1035 - val_acc: 0.9771\n",
      "Epoch 156/200\n",
      "0s - loss: 0.1128 - acc: 0.9775 - val_loss: 0.1052 - val_acc: 0.9787\n",
      "Epoch 157/200\n",
      "0s - loss: 0.1175 - acc: 0.9775 - val_loss: 0.1073 - val_acc: 0.9787\n",
      "Epoch 158/200\n",
      "0s - loss: 0.1180 - acc: 0.9775 - val_loss: 0.1037 - val_acc: 0.9767\n",
      "Epoch 159/200\n",
      "0s - loss: 0.1144 - acc: 0.9775 - val_loss: 0.1130 - val_acc: 0.9727\n",
      "Epoch 160/200\n",
      "0s - loss: 0.1211 - acc: 0.9759 - val_loss: 0.1122 - val_acc: 0.9731\n",
      "Epoch 161/200\n",
      "0s - loss: 0.1193 - acc: 0.9759 - val_loss: 0.1036 - val_acc: 0.9771\n",
      "Epoch 162/200\n",
      "0s - loss: 0.1130 - acc: 0.9775 - val_loss: 0.1076 - val_acc: 0.9787\n",
      "Epoch 163/200\n",
      "0s - loss: 0.1204 - acc: 0.9775 - val_loss: 0.1069 - val_acc: 0.9787\n",
      "Epoch 164/200\n",
      "0s - loss: 0.1187 - acc: 0.9775 - val_loss: 0.1033 - val_acc: 0.9771\n",
      "Epoch 165/200\n",
      "0s - loss: 0.1152 - acc: 0.9775 - val_loss: 0.1063 - val_acc: 0.9755\n",
      "Epoch 166/200\n",
      "0s - loss: 0.1153 - acc: 0.9775 - val_loss: 0.1035 - val_acc: 0.9771\n",
      "Epoch 167/200\n",
      "0s - loss: 0.1130 - acc: 0.9775 - val_loss: 0.1034 - val_acc: 0.9783\n",
      "Epoch 168/200\n",
      "0s - loss: 0.1161 - acc: 0.9775 - val_loss: 0.1040 - val_acc: 0.9787\n",
      "Epoch 169/200\n",
      "0s - loss: 0.1158 - acc: 0.9775 - val_loss: 0.1031 - val_acc: 0.9771\n",
      "Epoch 170/200\n",
      "0s - loss: 0.1135 - acc: 0.9775 - val_loss: 0.1051 - val_acc: 0.9755\n",
      "Epoch 171/200\n",
      "0s - loss: 0.1147 - acc: 0.9775 - val_loss: 0.1052 - val_acc: 0.9755\n",
      "Epoch 172/200\n",
      "0s - loss: 0.1149 - acc: 0.9775 - val_loss: 0.1046 - val_acc: 0.9759\n",
      "Epoch 173/200\n",
      "0s - loss: 0.1142 - acc: 0.9775 - val_loss: 0.1032 - val_acc: 0.9771\n",
      "Epoch 174/200\n",
      "0s - loss: 0.1130 - acc: 0.9775 - val_loss: 0.1029 - val_acc: 0.9783\n",
      "Epoch 175/200\n",
      "0s - loss: 0.1147 - acc: 0.9775 - val_loss: 0.1046 - val_acc: 0.9787\n",
      "Epoch 176/200\n",
      "0s - loss: 0.1168 - acc: 0.9775 - val_loss: 0.1024 - val_acc: 0.9775\n",
      "Epoch 177/200\n",
      "0s - loss: 0.1141 - acc: 0.9775 - val_loss: 0.1026 - val_acc: 0.9775\n",
      "Epoch 178/200\n",
      "0s - loss: 0.1132 - acc: 0.9775 - val_loss: 0.1024 - val_acc: 0.9775\n",
      "Epoch 179/200\n",
      "0s - loss: 0.1132 - acc: 0.9775 - val_loss: 0.1024 - val_acc: 0.9779\n",
      "Epoch 180/200\n",
      "0s - loss: 0.1142 - acc: 0.9775 - val_loss: 0.1034 - val_acc: 0.9787\n",
      "Epoch 181/200\n",
      "0s - loss: 0.1149 - acc: 0.9775 - val_loss: 0.1025 - val_acc: 0.9775\n",
      "Epoch 182/200\n",
      "0s - loss: 0.1131 - acc: 0.9775 - val_loss: 0.1064 - val_acc: 0.9755\n",
      "Epoch 183/200\n",
      "0s - loss: 0.1156 - acc: 0.9775 - val_loss: 0.1067 - val_acc: 0.9755\n",
      "Epoch 184/200\n",
      "0s - loss: 0.1155 - acc: 0.9775 - val_loss: 0.1032 - val_acc: 0.9771\n",
      "Epoch 185/200\n",
      "0s - loss: 0.1131 - acc: 0.9775 - val_loss: 0.1027 - val_acc: 0.9779\n",
      "Epoch 186/200\n",
      "0s - loss: 0.1137 - acc: 0.9775 - val_loss: 0.1032 - val_acc: 0.9783\n",
      "Epoch 187/200\n",
      "0s - loss: 0.1142 - acc: 0.9775 - val_loss: 0.1025 - val_acc: 0.9771\n",
      "Epoch 188/200\n",
      "0s - loss: 0.1132 - acc: 0.9775 - val_loss: 0.1034 - val_acc: 0.9771\n",
      "Epoch 189/200\n",
      "0s - loss: 0.1131 - acc: 0.9775 - val_loss: 0.1034 - val_acc: 0.9771\n",
      "Epoch 190/200\n",
      "0s - loss: 0.1130 - acc: 0.9775 - val_loss: 0.1027 - val_acc: 0.9775\n",
      "Epoch 191/200\n",
      "0s - loss: 0.1130 - acc: 0.9775 - val_loss: 0.1030 - val_acc: 0.9775\n",
      "Epoch 192/200\n",
      "0s - loss: 0.1135 - acc: 0.9775 - val_loss: 0.1028 - val_acc: 0.9771\n",
      "Epoch 193/200\n",
      "0s - loss: 0.1130 - acc: 0.9775 - val_loss: 0.1034 - val_acc: 0.9771\n",
      "Epoch 194/200\n",
      "0s - loss: 0.1129 - acc: 0.9775 - val_loss: 0.1032 - val_acc: 0.9771\n",
      "Epoch 195/200\n",
      "0s - loss: 0.1125 - acc: 0.9775 - val_loss: 0.1034 - val_acc: 0.9775\n",
      "Epoch 196/200\n",
      "0s - loss: 0.1146 - acc: 0.9775 - val_loss: 0.1044 - val_acc: 0.9783\n",
      "Epoch 197/200\n",
      "0s - loss: 0.1162 - acc: 0.9775 - val_loss: 0.1031 - val_acc: 0.9771\n",
      "Epoch 198/200\n",
      "0s - loss: 0.1129 - acc: 0.9775 - val_loss: 0.1032 - val_acc: 0.9775\n",
      "Epoch 199/200\n",
      "0s - loss: 0.1125 - acc: 0.9775 - val_loss: 0.1044 - val_acc: 0.9759\n",
      "Epoch 200/200\n",
      "0s - loss: 0.1136 - acc: 0.9775 - val_loss: 0.1042 - val_acc: 0.9759\n"
     ]
    },
    {
     "data": {
      "image/png": "[encoded data removed]",
      "text/plain": [
       "<matplotlib.figure.Figure at 0x7fdc65bcd828>"
      ]
     },
     "metadata": {},
     "output_type": "display_data"
    },
    {
     "data": {
      "image/png": "[encoded data removed]",
      "text/plain": [
       "<matplotlib.figure.Figure at 0x7fdc613dfeb8>"
      ]
     },
     "metadata": {},
     "output_type": "display_data"
    }
   ],
   "source": [
    "model.compile(loss='binary_crossentropy',   \n",
    "              optimizer='adam', metrics=['accuracy'])\n",
    "\n",
    "train_history = model.fit(x=new_X, y=train_label,  \n",
    "                          validation_split=0.8, epochs=200, \n",
    "                          batch_size=500, verbose=2) \n",
    "\n",
    "\n",
    "show_train_history(train_history,'acc','val_acc')\n",
    "show_train_history(train_history,'loss','val_loss')\n",
    "\n",
    "\n"
   ]
  },
  {
   "cell_type": "code",
   "execution_count": 97,
   "metadata": {
    "collapsed": false
   },
   "outputs": [
    {
     "data": {
      "text/plain": [
       "((779, 29), (779,))"
      ]
     },
     "execution_count": 97,
     "metadata": {},
     "output_type": "execute_result"
    }
   ],
   "source": [
    "new_testX.shape,test_label.shape"
   ]
  },
  {
   "cell_type": "code",
   "execution_count": 98,
   "metadata": {
    "collapsed": false
   },
   "outputs": [
    {
     "name": "stdout",
     "output_type": "stream",
     "text": [
      "576/779 [=====================>........] - ETA: 0s"
     ]
    }
   ],
   "source": [
    "scores = model.evaluate(new_testX,test_label)\n"
   ]
  },
  {
   "cell_type": "code",
   "execution_count": 99,
   "metadata": {
    "collapsed": false
   },
   "outputs": [
    {
     "name": "stdout",
     "output_type": "stream",
     "text": [
      "\n",
      "\n",
      "accuracy= 0.98074454467\n",
      "\r",
      " 32/779 [>.............................] - ETA: 1s"
     ]
    }
   ],
   "source": [
    "print('\\n')\n",
    "print('accuracy=',scores[1])\n",
    "\n",
    "prediction = model.predict_classes(test_feature_trans)"
   ]
  },
  {
   "cell_type": "code",
   "execution_count": 100,
   "metadata": {
    "collapsed": true
   },
   "outputs": [],
   "source": [
    "df_ans = pd.DataFrame({'Actual' :test_label})\n",
    "df_ans['Prediction'] = prediction"
   ]
  },
  {
   "cell_type": "code",
   "execution_count": 101,
   "metadata": {
    "collapsed": false
   },
   "outputs": [
    {
     "data": {
      "text/plain": [
       "0    716\n",
       "1     63\n",
       "Name: Prediction, dtype: int64"
      ]
     },
     "execution_count": 101,
     "metadata": {},
     "output_type": "execute_result"
    }
   ],
   "source": [
    "df_ans['Prediction'].value_counts()"
   ]
  },
  {
   "cell_type": "code",
   "execution_count": 102,
   "metadata": {
    "collapsed": false
   },
   "outputs": [
    {
     "data": {
      "text/plain": [
       "0.0    702\n",
       "1.0     77\n",
       "Name: Actual, dtype: int64"
      ]
     },
     "execution_count": 102,
     "metadata": {},
     "output_type": "execute_result"
    }
   ],
   "source": [
    "df_ans['Actual'].value_counts()"
   ]
  },
  {
   "cell_type": "code",
   "execution_count": 103,
   "metadata": {
    "collapsed": false
   },
   "outputs": [
    {
     "data": {
      "text/plain": [
       "<matplotlib.axes._subplots.AxesSubplot at 0x7fdc612061d0>"
      ]
     },
     "execution_count": 103,
     "metadata": {},
     "output_type": "execute_result"
    },
    {
     "name": "stdout",
     "output_type": "stream",
     "text": [
      "total test case number:  779\n"
     ]
    },
    {
     "data": {
      "image/png": "[encoded data removed]",
      "text/plain": [
       "<matplotlib.figure.Figure at 0x7fdc612689e8>"
      ]
     },
     "metadata": {},
     "output_type": "display_data"
    }
   ],
   "source": [
    "import seaborn as sns\n",
    "%matplotlib inline\n",
    "\n",
    "cols = ['Actual_1','Actual_0']  \n",
    "rows = ['Prediction_1','Prediction_0']\n",
    "\n",
    "TP = len(df_ans[(df_ans['Prediction'] == df_ans['Actual']) & (df_ans['Actual'] == 1)])\n",
    "TN = len(df_ans[(df_ans['Prediction'] != df_ans['Actual']) & (df_ans['Actual'] == 1)])\n",
    "FP = len(df_ans[(df_ans['Prediction'] != df_ans['Actual']) & (df_ans['Actual'] == 0)])\n",
    "FN = len(df_ans[(df_ans['Prediction'] == df_ans['Actual']) & (df_ans['Actual'] == 0)])\n",
    "\n",
    "conf = np.array([[TP,FP],[TN,FN]])\n",
    "df_cm = pd.DataFrame(conf, columns = [i for i in cols], index = [i for i in rows])\n",
    "\n",
    "f, ax= plt.subplots(figsize = (5, 5))\n",
    "sns.heatmap(df_cm, annot=True, ax=ax, fmt='d') \n",
    "ax.xaxis.set_ticks_position('top') #Making x label be on top is common in textbooks.\n",
    "\n",
    "print('total test case number: ', np.sum(conf))"
   ]
  },
  {
   "cell_type": "code",
   "execution_count": null,
   "metadata": {
    "collapsed": true
   },
   "outputs": [],
   "source": []
  },
  {
   "cell_type": "code",
   "execution_count": null,
   "metadata": {
    "collapsed": true
   },
   "outputs": [],
   "source": []
  },
  {
   "cell_type": "code",
   "execution_count": 104,
   "metadata": {
    "collapsed": false
   },
   "outputs": [
    {
     "name": "stdout",
     "output_type": "stream",
     "text": [
      "total_num:  779\n",
      "TP:  63\n",
      "FP:  0\n",
      "TN:  14\n",
      "FN:  702\n",
      "sensitivity/Recall:  0.818181818182\n",
      "specificity:  0.980446927374\n",
      "false_positive_rate:  0.0\n",
      "false_negative_rate:  0.181818181818\n",
      "Precision:  1.0\n"
     ]
    },
    {
     "data": {
      "text/plain": [
       "(779, 0.81818181818181823, 0.98044692737430172, 0.0, 0.18181818181818182, 1.0)"
      ]
     },
     "execution_count": 104,
     "metadata": {},
     "output_type": "execute_result"
    }
   ],
   "source": [
    "def model_efficacy(conf):\n",
    "    total_num = np.sum(conf)\n",
    "    sen = conf[0][0]/(conf[0][0]+conf[1][0])\n",
    "    spe = conf[1][1]/(conf[1][0]+conf[1][1])\n",
    "    false_positive_rate = conf[0][1]/(conf[0][1]+conf[1][1])\n",
    "    false_negative_rate = conf[1][0]/(conf[0][0]+conf[1][0])\n",
    "    TPP=(conf[0][1]+conf[1][1])\n",
    "    PTP=conf[1][1]/(conf[0][1]+conf[1][1])\n",
    "    \n",
    "    print('total_num: ',total_num)\n",
    "    print('TP: ',conf[0][0]) \n",
    "    print('FP: ',conf[0][1])\n",
    "    print('TN: ',conf[1][0])\n",
    "    print('FN: ',conf[1][1])\n",
    "    \n",
    "    print('sensitivity/Recall: ',sen)\n",
    "    print('specificity: ',spe)\n",
    "    print('false_positive_rate: ',false_positive_rate)\n",
    "    print('false_negative_rate: ',false_negative_rate)\n",
    "    print('Precision: ',PTP)\n",
    "    \n",
    "    return total_num, sen, spe, false_positive_rate, false_negative_rate, PTP\n",
    "\n",
    "model_efficacy(conf)"
   ]
  },
  {
   "cell_type": "code",
   "execution_count": 105,
   "metadata": {
    "collapsed": false
   },
   "outputs": [
    {
     "name": "stdout",
     "output_type": "stream",
     "text": [
      "227456/227845 [============================>.] - ETA: 0s\n",
      "\n",
      "accuracy= 0.998604314337\n",
      "227424/227845 [============================>.] - ETA: 0s"
     ]
    }
   ],
   "source": [
    "df_sample2 = df_full.iloc[:,:] \n",
    "\n",
    "feature2 = np.array(df_sample2.values[:,0:29])\n",
    "label2 = np.array(df_sample2.values[:,-1])\n",
    "\n",
    "feature2_trans = scaler.transform(feature2) #using the same scaler as above\n",
    "\n",
    "\n",
    "scores = model.evaluate(feature2_trans, label2)\n",
    "print('\\n')\n",
    "print('accuracy=',scores[1])\n",
    "\n",
    "\n",
    "prediction2 = model.predict_classes(feature2_trans)"
   ]
  },
  {
   "cell_type": "code",
   "execution_count": 106,
   "metadata": {
    "collapsed": false
   },
   "outputs": [
    {
     "name": "stdout",
     "output_type": "stream",
     "text": [
      "             precision    recall  f1-score   support\n",
      "\n",
      "          0       1.00      1.00      1.00    227452\n",
      "          1       0.57      0.79      0.66       393\n",
      "\n",
      "avg / total       1.00      1.00      1.00    227845\n",
      "\n",
      "[[227218    234]\n",
      " [    84    309]]\n"
     ]
    }
   ],
   "source": [
    "prediction2_list = prediction2.reshape(-1).astype(int)\n",
    "label2_list = label2.astype(int)\n",
    "\n",
    "print(classification_report(label2_list, prediction2_list))\n",
    "print(confusion_matrix(label2_list, prediction2_list))"
   ]
  },
  {
   "cell_type": "code",
   "execution_count": 107,
   "metadata": {
    "collapsed": false
   },
   "outputs": [
    {
     "data": {
      "text/plain": [
       "<matplotlib.axes._subplots.AxesSubplot at 0x7fdc611c5588>"
      ]
     },
     "execution_count": 107,
     "metadata": {},
     "output_type": "execute_result"
    },
    {
     "data": {
      "image/png": "[encoded data removed]",
      "text/plain": [
       "<matplotlib.figure.Figure at 0x7fdc611e0c18>"
      ]
     },
     "metadata": {},
     "output_type": "display_data"
    }
   ],
   "source": [
    "conf = confusion_matrix(label2_list, prediction2_list)\n",
    "f, ax= plt.subplots(figsize = (5, 5))\n",
    "sns.heatmap(conf, annot=True, ax=ax, fmt='d') \n",
    "ax.xaxis.set_ticks_position('top') "
   ]
  },
  {
   "cell_type": "code",
   "execution_count": 108,
   "metadata": {
    "collapsed": false,
    "scrolled": true
   },
   "outputs": [
    {
     "name": "stdout",
     "output_type": "stream",
     "text": [
      "total_num:  227845\n",
      "TP:  227218\n",
      "FP:  234\n",
      "TN:  84\n",
      "FN:  309\n",
      "sensitivity/Recall:  0.999630447598\n",
      "specificity:  0.786259541985\n",
      "false_positive_rate:  0.430939226519\n",
      "false_negative_rate:  0.000369552401651\n",
      "Precision:  0.569060773481\n",
      "F1 Score:  0.72525487242\n"
     ]
    },
    {
     "data": {
      "text/plain": [
       "(227845,\n",
       " 0.99963044759834929,\n",
       " 0.7862595419847328,\n",
       " 0.43093922651933703,\n",
       " 0.00036955240165066741,\n",
       " 0.56906077348066297,\n",
       " 0.72525487242015485)"
      ]
     },
     "execution_count": 108,
     "metadata": {},
     "output_type": "execute_result"
    }
   ],
   "source": [
    "def model_efficacy(conf):\n",
    "    total_num = np.sum(conf)\n",
    "    sen = conf[0][0]/(conf[0][0]+conf[1][0])\n",
    "    spe = conf[1][1]/(conf[1][0]+conf[1][1])\n",
    "    false_positive_rate = conf[0][1]/(conf[0][1]+conf[1][1])\n",
    "    false_negative_rate = conf[1][0]/(conf[0][0]+conf[1][0])\n",
    "    TPP=(conf[0][1]+conf[1][1])\n",
    "    PTP=conf[1][1]/(conf[0][1]+conf[1][1])\n",
    "    F1=2*PTP*sen/(sen+PTP)\n",
    "    \n",
    "    print('total_num: ',total_num)\n",
    "    print('TP: ',conf[0][0]) \n",
    "    print('FP: ',conf[0][1])\n",
    "    print('TN: ',conf[1][0])\n",
    "    print('FN: ',conf[1][1])\n",
    "    \n",
    "    print('sensitivity/Recall: ',sen)\n",
    "    print('specificity: ',spe)\n",
    "    print('false_positive_rate: ',false_positive_rate)\n",
    "    print('false_negative_rate: ',false_negative_rate)\n",
    "    print('Precision: ',PTP)\n",
    "    print('F1 Score: ',F1)\n",
    "    return total_num, sen, spe, false_positive_rate, false_negative_rate, PTP, F1\n",
    "\n",
    "model_efficacy(conf)\n"
   ]
  },
  {
   "cell_type": "markdown",
   "metadata": {},
   "source": [
    "### Comparing MLP perfrmance with Other models"
   ]
  },
  {
   "cell_type": "code",
   "execution_count": 110,
   "metadata": {
    "collapsed": false
   },
   "outputs": [
    {
     "data": {
      "text/plain": [
       "AdaBoostClassifier(algorithm='SAMME.R', base_estimator=None,\n",
       "          learning_rate=1.0, n_estimators=50, random_state=None)"
      ]
     },
     "execution_count": 110,
     "metadata": {},
     "output_type": "execute_result"
    },
    {
     "name": "stdout",
     "output_type": "stream",
     "text": [
      "Traing Score:0.989406\n",
      "Testing Score:0.984596\n"
     ]
    }
   ],
   "source": [
    "from sklearn import datasets,cross_validation,ensemble\n",
    "\n",
    "X_train,X_test,y_train,y_test = cross_validation.train_test_split(train_feature_trans,train_label, \n",
    "                                              test_size=0.25, random_state=0,stratify=train_label)\n",
    "clf=ensemble.AdaBoostClassifier()\n",
    "clf.fit(X_train,y_train)\n",
    "print(\"Traing Score:%f\"%clf.score(train_feature_trans,train_label))\n",
    "print(\"Testing Score:%f\"%clf.score(test_feature_trans,test_label))"
   ]
  },
  {
   "cell_type": "code",
   "execution_count": 111,
   "metadata": {
    "collapsed": false
   },
   "outputs": [
    {
     "name": "stdout",
     "output_type": "stream",
     "text": [
      "Testing Score:0.995980\n"
     ]
    }
   ],
   "source": [
    "print(\"Testing Score:%f\"%clf.score(feature2_trans, label2))"
   ]
  },
  {
   "cell_type": "code",
   "execution_count": 112,
   "metadata": {
    "collapsed": false
   },
   "outputs": [
    {
     "name": "stdout",
     "output_type": "stream",
     "text": [
      "             precision    recall  f1-score   support\n",
      "\n",
      "          0       1.00      1.00      1.00    227452\n",
      "          1       0.29      0.91      0.44       393\n",
      "\n",
      "avg / total       1.00      1.00      1.00    227845\n",
      "\n",
      "[[226572    880]\n",
      " [    36    357]]\n"
     ]
    }
   ],
   "source": [
    "prediction2 = clf.predict(feature2_trans)\n",
    "prediction2_list = prediction2.reshape(-1).astype(int)\n",
    "label2_list = label2.astype(int)\n",
    "\n",
    "print(classification_report(label2_list, prediction2_list))\n",
    "print(confusion_matrix(label2_list, prediction2_list))"
   ]
  },
  {
   "cell_type": "code",
   "execution_count": 113,
   "metadata": {
    "collapsed": false
   },
   "outputs": [
    {
     "name": "stdout",
     "output_type": "stream",
     "text": [
      "total_num:  227845\n",
      "TP:  226572\n",
      "FP:  880\n",
      "TN:  36\n",
      "FN:  357\n",
      "sensitivity/Recall:  0.999841135353\n",
      "specificity:  0.908396946565\n",
      "false_positive_rate:  0.711398544867\n",
      "false_negative_rate:  0.00015886464732\n",
      "Precision:  0.288601455133\n",
      "F1 Score:  0.447913797162\n"
     ]
    },
    {
     "data": {
      "text/plain": [
       "(227845,\n",
       " 0.99984113535267949,\n",
       " 0.90839694656488545,\n",
       " 0.7113985448666128,\n",
       " 0.00015886464732048296,\n",
       " 0.28860145513338725,\n",
       " 0.44791379716211227)"
      ]
     },
     "execution_count": 113,
     "metadata": {},
     "output_type": "execute_result"
    }
   ],
   "source": [
    "def model_efficacy(conf):\n",
    "    total_num = np.sum(conf)\n",
    "    sen = conf[0][0]/(conf[0][0]+conf[1][0])\n",
    "    spe = conf[1][1]/(conf[1][0]+conf[1][1])\n",
    "    false_positive_rate = conf[0][1]/(conf[0][1]+conf[1][1])\n",
    "    false_negative_rate = conf[1][0]/(conf[0][0]+conf[1][0])\n",
    "    TPP=(conf[0][1]+conf[1][1])\n",
    "    PTP=conf[1][1]/(conf[0][1]+conf[1][1])\n",
    "    F1=2*PTP*sen/(sen+PTP)\n",
    "    \n",
    "    print('total_num: ',total_num)\n",
    "    print('TP: ',conf[0][0]) \n",
    "    print('FP: ',conf[0][1])\n",
    "    print('TN: ',conf[1][0])\n",
    "    print('FN: ',conf[1][1])\n",
    "    \n",
    "    print('sensitivity/Recall: ',sen)\n",
    "    print('specificity: ',spe)\n",
    "    print('false_positive_rate: ',false_positive_rate)\n",
    "    print('false_negative_rate: ',false_negative_rate)\n",
    "    print('Precision: ',PTP)\n",
    "    print('F1 Score: ',F1)\n",
    "    return total_num, sen, spe, false_positive_rate, false_negative_rate, PTP, F1\n",
    "\n",
    "conf = confusion_matrix(label2_list, prediction2_list)\n",
    "model_efficacy(conf)"
   ]
  },
  {
   "cell_type": "code",
   "execution_count": 114,
   "metadata": {
    "collapsed": false
   },
   "outputs": [
    {
     "data": {
      "text/plain": [
       "GradientBoostingClassifier(criterion='friedman_mse', init=None,\n",
       "              learning_rate=0.1, loss='deviance', max_depth=3,\n",
       "              max_features=None, max_leaf_nodes=None,\n",
       "              min_impurity_decrease=0.0, min_impurity_split=None,\n",
       "              min_samples_leaf=1, min_samples_split=2,\n",
       "              min_weight_fraction_leaf=0.0, n_estimators=100,\n",
       "              presort='auto', random_state=None, subsample=1.0, verbose=0,\n",
       "              warm_start=False)"
      ]
     },
     "execution_count": 114,
     "metadata": {},
     "output_type": "execute_result"
    },
    {
     "name": "stdout",
     "output_type": "stream",
     "text": [
      "Traing Score:0.993900\n",
      "Testing Score:0.982028\n"
     ]
    }
   ],
   "source": [
    "from sklearn import datasets,cross_validation,ensemble\n",
    "\n",
    "X_train,X_test,y_train,y_test = cross_validation.train_test_split(train_feature_trans,train_label, \n",
    "                                              test_size=0.25, random_state=0,stratify=train_label)\n",
    "clf=ensemble.GradientBoostingClassifier()\n",
    "clf.fit(X_train,y_train)\n",
    "print(\"Traing Score:%f\"%clf.score(train_feature_trans,train_label))\n",
    "print(\"Testing Score:%f\"%clf.score(test_feature_trans,test_label))\n"
   ]
  },
  {
   "cell_type": "code",
   "execution_count": 115,
   "metadata": {
    "collapsed": false
   },
   "outputs": [
    {
     "name": "stdout",
     "output_type": "stream",
     "text": [
      "Testing Score:0.993500\n"
     ]
    }
   ],
   "source": [
    "print(\"Testing Score:%f\"%clf.score(feature2_trans, label2))"
   ]
  },
  {
   "cell_type": "code",
   "execution_count": 116,
   "metadata": {
    "collapsed": false
   },
   "outputs": [
    {
     "name": "stdout",
     "output_type": "stream",
     "text": [
      "             precision    recall  f1-score   support\n",
      "\n",
      "          0       1.00      0.99      1.00    227452\n",
      "          1       0.20      0.94      0.33       393\n",
      "\n",
      "avg / total       1.00      0.99      1.00    227845\n",
      "\n",
      "[[225993   1459]\n",
      " [    22    371]]\n"
     ]
    }
   ],
   "source": [
    "prediction2 = clf.predict(feature2_trans)\n",
    "prediction2_list = prediction2.reshape(-1).astype(int)\n",
    "label2_list = label2.astype(int)\n",
    "\n",
    "print(classification_report(label2_list, prediction2_list))\n",
    "print(confusion_matrix(label2_list, prediction2_list))"
   ]
  },
  {
   "cell_type": "code",
   "execution_count": 117,
   "metadata": {
    "collapsed": false
   },
   "outputs": [
    {
     "name": "stdout",
     "output_type": "stream",
     "text": [
      "total_num:  227845\n",
      "TP:  225993\n",
      "FP:  1459\n",
      "TN:  22\n",
      "FN:  371\n",
      "sensitivity/Recall:  0.999902661328\n",
      "specificity:  0.944020356234\n",
      "false_positive_rate:  0.797267759563\n",
      "false_negative_rate:  9.7338672212e-05\n",
      "Precision:  0.202732240437\n",
      "F1 Score:  0.337113959444\n"
     ]
    },
    {
     "data": {
      "text/plain": [
       "(227845,\n",
       " 0.99990266132778793,\n",
       " 0.94402035623409675,\n",
       " 0.79726775956284157,\n",
       " 9.7338672212021326e-05,\n",
       " 0.20273224043715846,\n",
       " 0.33711395944449257)"
      ]
     },
     "execution_count": 117,
     "metadata": {},
     "output_type": "execute_result"
    }
   ],
   "source": [
    "def model_efficacy(conf):\n",
    "    total_num = np.sum(conf)\n",
    "    sen = conf[0][0]/(conf[0][0]+conf[1][0])\n",
    "    spe = conf[1][1]/(conf[1][0]+conf[1][1])\n",
    "    false_positive_rate = conf[0][1]/(conf[0][1]+conf[1][1])\n",
    "    false_negative_rate = conf[1][0]/(conf[0][0]+conf[1][0])\n",
    "    TPP=(conf[0][1]+conf[1][1])\n",
    "    PTP=conf[1][1]/(conf[0][1]+conf[1][1])\n",
    "    F1=2*PTP*sen/(sen+PTP)\n",
    "    \n",
    "    print('total_num: ',total_num)\n",
    "    print('TP: ',conf[0][0]) \n",
    "    print('FP: ',conf[0][1])\n",
    "    print('TN: ',conf[1][0])\n",
    "    print('FN: ',conf[1][1])\n",
    "    \n",
    "    print('sensitivity/Recall: ',sen)\n",
    "    print('specificity: ',spe)\n",
    "    print('false_positive_rate: ',false_positive_rate)\n",
    "    print('false_negative_rate: ',false_negative_rate)\n",
    "    print('Precision: ',PTP)\n",
    "    print('F1 Score: ',F1)\n",
    "    return total_num, sen, spe, false_positive_rate, false_negative_rate, PTP, F1\n",
    "\n",
    "conf = confusion_matrix(label2_list, prediction2_list)\n",
    "model_efficacy(conf)"
   ]
  },
  {
   "cell_type": "code",
   "execution_count": 118,
   "metadata": {
    "collapsed": false
   },
   "outputs": [
    {
     "data": {
      "text/plain": [
       "RandomForestClassifier(bootstrap=True, class_weight=None, criterion='gini',\n",
       "            max_depth=None, max_features='auto', max_leaf_nodes=None,\n",
       "            min_impurity_decrease=0.0, min_impurity_split=None,\n",
       "            min_samples_leaf=1, min_samples_split=2,\n",
       "            min_weight_fraction_leaf=0.0, n_estimators=10, n_jobs=1,\n",
       "            oob_score=False, random_state=None, verbose=0,\n",
       "            warm_start=False)"
      ]
     },
     "execution_count": 118,
     "metadata": {},
     "output_type": "execute_result"
    },
    {
     "name": "stdout",
     "output_type": "stream",
     "text": [
      "Traing Score:0.993258\n",
      "Testing Score:0.985879\n"
     ]
    }
   ],
   "source": [
    "from sklearn import datasets,cross_validation,ensemble\n",
    "\n",
    "X_train,X_test,y_train,y_test = cross_validation.train_test_split(train_feature_trans,train_label, \n",
    "                                              test_size=0.25, random_state=0,stratify=train_label)\n",
    "clf=ensemble.RandomForestClassifier()\n",
    "clf.fit(X_train,y_train)\n",
    "print(\"Traing Score:%f\"%clf.score(train_feature_trans,train_label))\n",
    "print(\"Testing Score:%f\"%clf.score(test_feature_trans,test_label))"
   ]
  },
  {
   "cell_type": "code",
   "execution_count": 119,
   "metadata": {
    "collapsed": false
   },
   "outputs": [
    {
     "name": "stdout",
     "output_type": "stream",
     "text": [
      "Testing Score:0.997801\n"
     ]
    }
   ],
   "source": [
    "print(\"Testing Score:%f\"%clf.score(feature2_trans, label2))"
   ]
  },
  {
   "cell_type": "code",
   "execution_count": 120,
   "metadata": {
    "collapsed": false
   },
   "outputs": [
    {
     "name": "stdout",
     "output_type": "stream",
     "text": [
      "             precision    recall  f1-score   support\n",
      "\n",
      "          0       1.00      1.00      1.00    227452\n",
      "          1       0.44      0.92      0.59       393\n",
      "\n",
      "avg / total       1.00      1.00      1.00    227845\n",
      "\n",
      "[[226981    471]\n",
      " [    30    363]]\n"
     ]
    }
   ],
   "source": [
    "prediction2 = clf.predict(feature2_trans)\n",
    "prediction2_list = prediction2.reshape(-1).astype(int)\n",
    "label2_list = label2.astype(int)\n",
    "\n",
    "print(classification_report(label2_list, prediction2_list))\n",
    "print(confusion_matrix(label2_list, prediction2_list))"
   ]
  },
  {
   "cell_type": "code",
   "execution_count": 121,
   "metadata": {
    "collapsed": false
   },
   "outputs": [
    {
     "name": "stdout",
     "output_type": "stream",
     "text": [
      "total_num:  227845\n",
      "TP:  226981\n",
      "FP:  471\n",
      "TN:  30\n",
      "FN:  363\n",
      "sensitivity/Recall:  0.999867847814\n",
      "specificity:  0.923664122137\n",
      "false_positive_rate:  0.564748201439\n",
      "false_negative_rate:  0.000132152186458\n",
      "Precision:  0.435251798561\n",
      "F1 Score:  0.606491981604\n"
     ]
    },
    {
     "data": {
      "text/plain": [
       "(227845,\n",
       " 0.9998678478135421,\n",
       " 0.92366412213740456,\n",
       " 0.56474820143884896,\n",
       " 0.00013215218645792494,\n",
       " 0.43525179856115109,\n",
       " 0.60649198160400253)"
      ]
     },
     "execution_count": 121,
     "metadata": {},
     "output_type": "execute_result"
    }
   ],
   "source": [
    "def model_efficacy(conf):\n",
    "    total_num = np.sum(conf)\n",
    "    sen = conf[0][0]/(conf[0][0]+conf[1][0])\n",
    "    spe = conf[1][1]/(conf[1][0]+conf[1][1])\n",
    "    false_positive_rate = conf[0][1]/(conf[0][1]+conf[1][1])\n",
    "    false_negative_rate = conf[1][0]/(conf[0][0]+conf[1][0])\n",
    "    TPP=(conf[0][1]+conf[1][1])\n",
    "    PTP=conf[1][1]/(conf[0][1]+conf[1][1])\n",
    "    F1=2*PTP*sen/(sen+PTP)\n",
    "    \n",
    "    print('total_num: ',total_num)\n",
    "    print('TP: ',conf[0][0]) \n",
    "    print('FP: ',conf[0][1])\n",
    "    print('TN: ',conf[1][0])\n",
    "    print('FN: ',conf[1][1])\n",
    "    \n",
    "    print('sensitivity/Recall: ',sen)\n",
    "    print('specificity: ',spe)\n",
    "    print('false_positive_rate: ',false_positive_rate)\n",
    "    print('false_negative_rate: ',false_negative_rate)\n",
    "    print('Precision: ',PTP)\n",
    "    print('F1 Score: ',F1)\n",
    "    return total_num, sen, spe, false_positive_rate, false_negative_rate, PTP, F1\n",
    "conf = confusion_matrix(label2_list, prediction2_list)\n",
    "model_efficacy(conf)"
   ]
  },
  {
   "cell_type": "markdown",
   "metadata": {
    "collapsed": true
   },
   "source": [
    "## Testing On Test Sample"
   ]
  },
  {
   "cell_type": "code",
   "execution_count": 129,
   "metadata": {
    "collapsed": false
   },
   "outputs": [
    {
     "name": "stdout",
     "output_type": "stream",
     "text": [
      "56512/56962 [============================>.] - ETA: 0s\n",
      "\n",
      "accuracy= 0.998630666058\n",
      "56864/56962 [============================>.] - ETA: 0s"
     ]
    }
   ],
   "source": [
    "df_sample3 = data_test.iloc[:,:] \n",
    "df_sample3.drop('Time', axis=1,  inplace = True)\n",
    "\n",
    "feature3 = np.array(df_sample3.values[:,0:29])\n",
    "label3 = np.array(df_sample3.values[:,-1])\n",
    "\n",
    "feature3_trans = scaler.transform(feature3) \n",
    "\n",
    "\n",
    "scores = model.evaluate(feature3_trans, label3)\n",
    "print('\\n')\n",
    "print('accuracy=',scores[1])\n",
    "\n",
    "\n",
    "prediction3 = model.predict_classes(feature3_trans)"
   ]
  },
  {
   "cell_type": "code",
   "execution_count": 128,
   "metadata": {
    "collapsed": false
   },
   "outputs": [
    {
     "data": {
      "text/plain": [
       "array([[  4.16896278e+03,   6.66401817e-01,   9.18999581e-01, ...,\n",
       "          5.40764421e-01,   8.65419195e-01,   2.76125037e-05],\n",
       "       [  4.22008698e+03,   6.36368975e-01,   9.40758797e-01, ...,\n",
       "          6.17251116e-01,   8.45451235e-01,   1.55802680e-05],\n",
       "       [  4.22154506e+03,   6.19898508e-01,   9.35016637e-01, ...,\n",
       "          5.61431689e-01,   8.91674124e-01,   3.21977417e-05],\n",
       "       ..., \n",
       "       [  5.24967912e+03,   6.86469977e-01,   8.76735029e-01, ...,\n",
       "          5.46524970e-01,   7.84926919e-01,  -2.05723589e-06],\n",
       "       [  5.24967912e+03,   6.52840971e-01,   9.00408888e-01, ...,\n",
       "          5.94812706e-01,   7.94817755e-01,   8.09645947e-06],\n",
       "       [  5.24980063e+03,   6.48279698e-01,   8.79909257e-01, ...,\n",
       "          4.90860674e-01,   7.84275837e-01,   1.05715966e-06]])"
      ]
     },
     "execution_count": 128,
     "metadata": {},
     "output_type": "execute_result"
    }
   ],
   "source": [
    "feature3_trans"
   ]
  },
  {
   "cell_type": "code",
   "execution_count": 130,
   "metadata": {
    "collapsed": false
   },
   "outputs": [
    {
     "name": "stdout",
     "output_type": "stream",
     "text": [
      "             precision    recall  f1-score   support\n",
      "\n",
      "          0       1.00      1.00      1.00     56863\n",
      "          1       0.59      0.69      0.64        99\n",
      "\n",
      "avg / total       1.00      1.00      1.00     56962\n",
      "\n",
      "[[56816    47]\n",
      " [   31    68]]\n"
     ]
    }
   ],
   "source": [
    "prediction3_list = prediction3.reshape(-1).astype(int)\n",
    "label3_list = label3.astype(int)\n",
    "\n",
    "print(classification_report(label3_list, prediction3_list))\n",
    "print(confusion_matrix(label3_list, prediction3_list))"
   ]
  },
  {
   "cell_type": "code",
   "execution_count": 131,
   "metadata": {
    "collapsed": false
   },
   "outputs": [
    {
     "data": {
      "text/plain": [
       "<matplotlib.axes._subplots.AxesSubplot at 0x7fdc60653320>"
      ]
     },
     "execution_count": 131,
     "metadata": {},
     "output_type": "execute_result"
    },
    {
     "data": {
      "image/png": "[encoded data removed]",
      "text/plain": [
       "<matplotlib.figure.Figure at 0x7fdc60645b38>"
      ]
     },
     "metadata": {},
     "output_type": "display_data"
    }
   ],
   "source": [
    "conf = confusion_matrix(label3_list, prediction3_list)\n",
    "f, ax= plt.subplots(figsize = (5, 5))\n",
    "sns.heatmap(conf, annot=True, ax=ax, fmt='d') \n",
    "ax.xaxis.set_ticks_position('top') "
   ]
  },
  {
   "cell_type": "code",
   "execution_count": 132,
   "metadata": {
    "collapsed": false
   },
   "outputs": [
    {
     "name": "stdout",
     "output_type": "stream",
     "text": [
      "total_num:  56962\n",
      "TP:  56816\n",
      "FP:  47\n",
      "TN:  31\n",
      "FN:  68\n",
      "sensitivity/Recall:  0.999454676588\n",
      "specificity:  0.686868686869\n",
      "false_positive_rate:  0.408695652174\n",
      "false_negative_rate:  0.000545323411965\n",
      "Precision:  0.591304347826\n",
      "F1 Score:  0.743018756017\n"
     ]
    },
    {
     "data": {
      "text/plain": [
       "(56962,\n",
       " 0.99945467658803455,\n",
       " 0.68686868686868685,\n",
       " 0.40869565217391307,\n",
       " 0.00054532341196545113,\n",
       " 0.59130434782608698,\n",
       " 0.74301875601715317)"
      ]
     },
     "execution_count": 132,
     "metadata": {},
     "output_type": "execute_result"
    }
   ],
   "source": [
    "def model_efficacy(conf):\n",
    "    total_num = np.sum(conf)\n",
    "    sen = conf[0][0]/(conf[0][0]+conf[1][0])\n",
    "    spe = conf[1][1]/(conf[1][0]+conf[1][1])\n",
    "    false_positive_rate = conf[0][1]/(conf[0][1]+conf[1][1])\n",
    "    false_negative_rate = conf[1][0]/(conf[0][0]+conf[1][0])\n",
    "    TPP=(conf[0][1]+conf[1][1])\n",
    "    PTP=conf[1][1]/(conf[0][1]+conf[1][1])\n",
    "    F1=2*PTP*sen/(sen+PTP)\n",
    "    \n",
    "    print('total_num: ',total_num)\n",
    "    print('TP: ',conf[0][0]) \n",
    "    print('FP: ',conf[0][1])\n",
    "    print('TN: ',conf[1][0])\n",
    "    print('FN: ',conf[1][1])\n",
    "    \n",
    "    print('sensitivity/Recall: ',sen)\n",
    "    print('specificity: ',spe)\n",
    "    print('false_positive_rate: ',false_positive_rate)\n",
    "    print('false_negative_rate: ',false_negative_rate)\n",
    "    print('Precision: ',PTP)\n",
    "    print('F1 Score: ',F1)\n",
    "    return total_num, sen, spe, false_positive_rate, false_negative_rate, PTP, F1\n",
    "\n",
    "model_efficacy(conf)"
   ]
  },
  {
   "cell_type": "code",
   "execution_count": null,
   "metadata": {
    "collapsed": true
   },
   "outputs": [],
   "source": []
  }
 ],
 "metadata": {
  "kernelspec": {
   "display_name": "Python 3",
   "language": "python",
   "name": "python3"
  },
  "language_info": {
   "codemirror_mode": {
    "name": "ipython",
    "version": 3
   },
   "file_extension": ".py",
   "mimetype": "text/x-python",
   "name": "python",
   "nbconvert_exporter": "python",
   "pygments_lexer": "ipython3",
   "version": "3.6.0"
  }
 },
 "nbformat": 4,
 "nbformat_minor": 2
}
